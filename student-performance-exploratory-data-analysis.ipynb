{
 "cells": [
  {
   "cell_type": "markdown",
   "id": "ba000399",
   "metadata": {
    "id": "dF8TP16clPbw",
    "papermill": {
     "duration": 0.026569,
     "end_time": "2023-01-17T18:51:10.909204",
     "exception": false,
     "start_time": "2023-01-17T18:51:10.882635",
     "status": "completed"
    },
    "tags": []
   },
   "source": [
    "# **Student Performance in Exams Data Analysis**"
   ]
  },
  {
   "cell_type": "markdown",
   "id": "02d764de",
   "metadata": {
    "papermill": {
     "duration": 0.021335,
     "end_time": "2023-01-17T18:51:10.952509",
     "exception": false,
     "start_time": "2023-01-17T18:51:10.931174",
     "status": "completed"
    },
    "tags": []
   },
   "source": [
    "## **Table of Contents**\n",
    "\n",
    "#### * [Introduction](#section-1)\n",
    "#### * [Countplots](#section-2)\n",
    "#### * [Box Plots](#section-3)\n",
    "#### * [Pass Rate](#section-4)\n",
    "#### * [Conclusion](#section-5)"
   ]
  },
  {
   "cell_type": "markdown",
   "id": "ca3b234e",
   "metadata": {
    "papermill": {
     "duration": 0.02157,
     "end_time": "2023-01-17T18:51:10.995723",
     "exception": false,
     "start_time": "2023-01-17T18:51:10.974153",
     "status": "completed"
    },
    "tags": []
   },
   "source": [
    "<a id = 'section-1'></a>\n",
    "## Introduction"
   ]
  },
  {
   "cell_type": "markdown",
   "id": "85fc5b5f",
   "metadata": {
    "papermill": {
     "duration": 0.021935,
     "end_time": "2023-01-17T18:51:11.040535",
     "exception": false,
     "start_time": "2023-01-17T18:51:11.018600",
     "status": "completed"
    },
    "tags": []
   },
   "source": []
  },
  {
   "cell_type": "markdown",
   "id": "27d79229",
   "metadata": {
    "id": "PiNHmgrblakR",
    "papermill": {
     "duration": 0.031653,
     "end_time": "2023-01-17T18:51:11.096753",
     "exception": false,
     "start_time": "2023-01-17T18:51:11.065100",
     "status": "completed"
    },
    "tags": []
   },
   "source": [
    "In this session, I will use various methods of exploratory data analysis to examine the characteristics of the \"Students Performance in Exams\" dataset.\n",
    "\n",
    "The data contains eight variables used to explore the effect of various factors on test scores. The variables are: \n",
    "\n",
    "* Gender - male or female\n",
    "* Race/Ethnicity - split into 5 Groups (A, B, C, D, E)\n",
    "* Parent Education Level - a student's parent's highest level of education\n",
    "* Lunch - whether a student is in the standard or free/reduced lunch program\n",
    "* Test Prep Course - whether or not a student completed the test preparation course\n",
    "* Math Score\n",
    "* Reading Score\n",
    "* Writing Score\n",
    "\n",
    "**Note: this is a fictional dataset used strictly for to demonstrate beginner data analysis skills. The results are not official and should not be used to conclude actual relationships between the variables listed and education.**"
   ]
  },
  {
   "cell_type": "markdown",
   "id": "06691cbe",
   "metadata": {
    "id": "XAa0QRjwZyTR",
    "papermill": {
     "duration": 0.024344,
     "end_time": "2023-01-17T18:51:11.154320",
     "exception": false,
     "start_time": "2023-01-17T18:51:11.129976",
     "status": "completed"
    },
    "tags": []
   },
   "source": [
    "Below are the imports for the packages that will be used in the session:"
   ]
  },
  {
   "cell_type": "code",
   "execution_count": 1,
   "id": "573d3c84",
   "metadata": {
    "execution": {
     "iopub.execute_input": "2023-01-17T18:51:11.208414Z",
     "iopub.status.busy": "2023-01-17T18:51:11.207935Z",
     "iopub.status.idle": "2023-01-17T18:51:12.359506Z",
     "shell.execute_reply": "2023-01-17T18:51:12.358381Z"
    },
    "id": "5YwFUoGC4WiO",
    "papermill": {
     "duration": 1.178258,
     "end_time": "2023-01-17T18:51:12.362506",
     "exception": false,
     "start_time": "2023-01-17T18:51:11.184248",
     "status": "completed"
    },
    "tags": []
   },
   "outputs": [],
   "source": [
    "import pandas as pd\n",
    "import numpy as np\n",
    "import seaborn as sns\n",
    "import matplotlib.pyplot as plt\n",
    "sns.set_style('darkgrid')"
   ]
  },
  {
   "cell_type": "markdown",
   "id": "27e7602a",
   "metadata": {
    "id": "_VULA8p3ZzL0",
    "papermill": {
     "duration": 0.021992,
     "end_time": "2023-01-17T18:51:12.407527",
     "exception": false,
     "start_time": "2023-01-17T18:51:12.385535",
     "status": "completed"
    },
    "tags": []
   },
   "source": [
    "The dataframe is read in from my Google Drive, and is then saved as 'students'."
   ]
  },
  {
   "cell_type": "code",
   "execution_count": 2,
   "id": "02c19973",
   "metadata": {
    "execution": {
     "iopub.execute_input": "2023-01-17T18:51:12.453286Z",
     "iopub.status.busy": "2023-01-17T18:51:12.452315Z",
     "iopub.status.idle": "2023-01-17T18:51:12.487929Z",
     "shell.execute_reply": "2023-01-17T18:51:12.487014Z"
    },
    "id": "WLy7ah-y_0YG",
    "papermill": {
     "duration": 0.061117,
     "end_time": "2023-01-17T18:51:12.490382",
     "exception": false,
     "start_time": "2023-01-17T18:51:12.429265",
     "status": "completed"
    },
    "tags": []
   },
   "outputs": [],
   "source": [
    "students = pd.read_csv('../input/students-performance-in-exams/StudentsPerformance.csv')"
   ]
  },
  {
   "cell_type": "markdown",
   "id": "cf3a943c",
   "metadata": {
    "id": "VfCINnjKaFAG",
    "papermill": {
     "duration": 0.021376,
     "end_time": "2023-01-17T18:51:12.533761",
     "exception": false,
     "start_time": "2023-01-17T18:51:12.512385",
     "status": "completed"
    },
    "tags": []
   },
   "source": [
    "Next, the dataframe is viewed using head() and info(). In addition, the describe() function displays basic statistical calculations for the three integers (math score, reading score, and writing score).\n",
    "\n",
    "From below, it is seen that there are 1,000 entries in the data, with 11 total columns. In addition, the majority of the data is saved as string objects. "
   ]
  },
  {
   "cell_type": "code",
   "execution_count": 3,
   "id": "9c7f37ca",
   "metadata": {
    "execution": {
     "iopub.execute_input": "2023-01-17T18:51:12.578892Z",
     "iopub.status.busy": "2023-01-17T18:51:12.578189Z",
     "iopub.status.idle": "2023-01-17T18:51:12.599592Z",
     "shell.execute_reply": "2023-01-17T18:51:12.598826Z"
    },
    "id": "6mu1UhC-BOUL",
    "outputId": "d28eafdb-45a7-402a-b819-757dfcd471d2",
    "papermill": {
     "duration": 0.046679,
     "end_time": "2023-01-17T18:51:12.602031",
     "exception": false,
     "start_time": "2023-01-17T18:51:12.555352",
     "status": "completed"
    },
    "tags": []
   },
   "outputs": [
    {
     "data": {
      "text/html": [
       "<div>\n",
       "<style scoped>\n",
       "    .dataframe tbody tr th:only-of-type {\n",
       "        vertical-align: middle;\n",
       "    }\n",
       "\n",
       "    .dataframe tbody tr th {\n",
       "        vertical-align: top;\n",
       "    }\n",
       "\n",
       "    .dataframe thead th {\n",
       "        text-align: right;\n",
       "    }\n",
       "</style>\n",
       "<table border=\"1\" class=\"dataframe\">\n",
       "  <thead>\n",
       "    <tr style=\"text-align: right;\">\n",
       "      <th></th>\n",
       "      <th>gender</th>\n",
       "      <th>race/ethnicity</th>\n",
       "      <th>parental level of education</th>\n",
       "      <th>lunch</th>\n",
       "      <th>test preparation course</th>\n",
       "      <th>math score</th>\n",
       "      <th>reading score</th>\n",
       "      <th>writing score</th>\n",
       "    </tr>\n",
       "  </thead>\n",
       "  <tbody>\n",
       "    <tr>\n",
       "      <th>0</th>\n",
       "      <td>female</td>\n",
       "      <td>group B</td>\n",
       "      <td>bachelor's degree</td>\n",
       "      <td>standard</td>\n",
       "      <td>none</td>\n",
       "      <td>72</td>\n",
       "      <td>72</td>\n",
       "      <td>74</td>\n",
       "    </tr>\n",
       "    <tr>\n",
       "      <th>1</th>\n",
       "      <td>female</td>\n",
       "      <td>group C</td>\n",
       "      <td>some college</td>\n",
       "      <td>standard</td>\n",
       "      <td>completed</td>\n",
       "      <td>69</td>\n",
       "      <td>90</td>\n",
       "      <td>88</td>\n",
       "    </tr>\n",
       "    <tr>\n",
       "      <th>2</th>\n",
       "      <td>female</td>\n",
       "      <td>group B</td>\n",
       "      <td>master's degree</td>\n",
       "      <td>standard</td>\n",
       "      <td>none</td>\n",
       "      <td>90</td>\n",
       "      <td>95</td>\n",
       "      <td>93</td>\n",
       "    </tr>\n",
       "    <tr>\n",
       "      <th>3</th>\n",
       "      <td>male</td>\n",
       "      <td>group A</td>\n",
       "      <td>associate's degree</td>\n",
       "      <td>free/reduced</td>\n",
       "      <td>none</td>\n",
       "      <td>47</td>\n",
       "      <td>57</td>\n",
       "      <td>44</td>\n",
       "    </tr>\n",
       "    <tr>\n",
       "      <th>4</th>\n",
       "      <td>male</td>\n",
       "      <td>group C</td>\n",
       "      <td>some college</td>\n",
       "      <td>standard</td>\n",
       "      <td>none</td>\n",
       "      <td>76</td>\n",
       "      <td>78</td>\n",
       "      <td>75</td>\n",
       "    </tr>\n",
       "  </tbody>\n",
       "</table>\n",
       "</div>"
      ],
      "text/plain": [
       "   gender race/ethnicity parental level of education         lunch  \\\n",
       "0  female        group B           bachelor's degree      standard   \n",
       "1  female        group C                some college      standard   \n",
       "2  female        group B             master's degree      standard   \n",
       "3    male        group A          associate's degree  free/reduced   \n",
       "4    male        group C                some college      standard   \n",
       "\n",
       "  test preparation course  math score  reading score  writing score  \n",
       "0                    none          72             72             74  \n",
       "1               completed          69             90             88  \n",
       "2                    none          90             95             93  \n",
       "3                    none          47             57             44  \n",
       "4                    none          76             78             75  "
      ]
     },
     "execution_count": 3,
     "metadata": {},
     "output_type": "execute_result"
    }
   ],
   "source": [
    "students.head()"
   ]
  },
  {
   "cell_type": "code",
   "execution_count": 4,
   "id": "90323444",
   "metadata": {
    "execution": {
     "iopub.execute_input": "2023-01-17T18:51:12.647832Z",
     "iopub.status.busy": "2023-01-17T18:51:12.647411Z",
     "iopub.status.idle": "2023-01-17T18:51:12.673470Z",
     "shell.execute_reply": "2023-01-17T18:51:12.672684Z"
    },
    "id": "lREhGfJgaY8i",
    "outputId": "ae2d31c1-6cf8-4b1e-f0ec-2eecbe395be2",
    "papermill": {
     "duration": 0.052054,
     "end_time": "2023-01-17T18:51:12.676130",
     "exception": false,
     "start_time": "2023-01-17T18:51:12.624076",
     "status": "completed"
    },
    "tags": []
   },
   "outputs": [
    {
     "name": "stdout",
     "output_type": "stream",
     "text": [
      "<class 'pandas.core.frame.DataFrame'>\n",
      "RangeIndex: 1000 entries, 0 to 999\n",
      "Data columns (total 8 columns):\n",
      " #   Column                       Non-Null Count  Dtype \n",
      "---  ------                       --------------  ----- \n",
      " 0   gender                       1000 non-null   object\n",
      " 1   race/ethnicity               1000 non-null   object\n",
      " 2   parental level of education  1000 non-null   object\n",
      " 3   lunch                        1000 non-null   object\n",
      " 4   test preparation course      1000 non-null   object\n",
      " 5   math score                   1000 non-null   int64 \n",
      " 6   reading score                1000 non-null   int64 \n",
      " 7   writing score                1000 non-null   int64 \n",
      "dtypes: int64(3), object(5)\n",
      "memory usage: 62.6+ KB\n"
     ]
    }
   ],
   "source": [
    "students.info()"
   ]
  },
  {
   "cell_type": "code",
   "execution_count": 5,
   "id": "c4c8c4b1",
   "metadata": {
    "execution": {
     "iopub.execute_input": "2023-01-17T18:51:12.723359Z",
     "iopub.status.busy": "2023-01-17T18:51:12.721994Z",
     "iopub.status.idle": "2023-01-17T18:51:12.746603Z",
     "shell.execute_reply": "2023-01-17T18:51:12.745205Z"
    },
    "id": "j4i_6PhZ0k_e",
    "outputId": "d82aefbe-08bd-43bc-ff46-eb5a3aa9b7b5",
    "papermill": {
     "duration": 0.050739,
     "end_time": "2023-01-17T18:51:12.749258",
     "exception": false,
     "start_time": "2023-01-17T18:51:12.698519",
     "status": "completed"
    },
    "tags": []
   },
   "outputs": [
    {
     "data": {
      "text/html": [
       "<div>\n",
       "<style scoped>\n",
       "    .dataframe tbody tr th:only-of-type {\n",
       "        vertical-align: middle;\n",
       "    }\n",
       "\n",
       "    .dataframe tbody tr th {\n",
       "        vertical-align: top;\n",
       "    }\n",
       "\n",
       "    .dataframe thead th {\n",
       "        text-align: right;\n",
       "    }\n",
       "</style>\n",
       "<table border=\"1\" class=\"dataframe\">\n",
       "  <thead>\n",
       "    <tr style=\"text-align: right;\">\n",
       "      <th></th>\n",
       "      <th>math score</th>\n",
       "      <th>reading score</th>\n",
       "      <th>writing score</th>\n",
       "    </tr>\n",
       "  </thead>\n",
       "  <tbody>\n",
       "    <tr>\n",
       "      <th>count</th>\n",
       "      <td>1000.00000</td>\n",
       "      <td>1000.000000</td>\n",
       "      <td>1000.000000</td>\n",
       "    </tr>\n",
       "    <tr>\n",
       "      <th>mean</th>\n",
       "      <td>66.08900</td>\n",
       "      <td>69.169000</td>\n",
       "      <td>68.054000</td>\n",
       "    </tr>\n",
       "    <tr>\n",
       "      <th>std</th>\n",
       "      <td>15.16308</td>\n",
       "      <td>14.600192</td>\n",
       "      <td>15.195657</td>\n",
       "    </tr>\n",
       "    <tr>\n",
       "      <th>min</th>\n",
       "      <td>0.00000</td>\n",
       "      <td>17.000000</td>\n",
       "      <td>10.000000</td>\n",
       "    </tr>\n",
       "    <tr>\n",
       "      <th>25%</th>\n",
       "      <td>57.00000</td>\n",
       "      <td>59.000000</td>\n",
       "      <td>57.750000</td>\n",
       "    </tr>\n",
       "    <tr>\n",
       "      <th>50%</th>\n",
       "      <td>66.00000</td>\n",
       "      <td>70.000000</td>\n",
       "      <td>69.000000</td>\n",
       "    </tr>\n",
       "    <tr>\n",
       "      <th>75%</th>\n",
       "      <td>77.00000</td>\n",
       "      <td>79.000000</td>\n",
       "      <td>79.000000</td>\n",
       "    </tr>\n",
       "    <tr>\n",
       "      <th>max</th>\n",
       "      <td>100.00000</td>\n",
       "      <td>100.000000</td>\n",
       "      <td>100.000000</td>\n",
       "    </tr>\n",
       "  </tbody>\n",
       "</table>\n",
       "</div>"
      ],
      "text/plain": [
       "       math score  reading score  writing score\n",
       "count  1000.00000    1000.000000    1000.000000\n",
       "mean     66.08900      69.169000      68.054000\n",
       "std      15.16308      14.600192      15.195657\n",
       "min       0.00000      17.000000      10.000000\n",
       "25%      57.00000      59.000000      57.750000\n",
       "50%      66.00000      70.000000      69.000000\n",
       "75%      77.00000      79.000000      79.000000\n",
       "max     100.00000     100.000000     100.000000"
      ]
     },
     "execution_count": 5,
     "metadata": {},
     "output_type": "execute_result"
    }
   ],
   "source": [
    "students.describe()"
   ]
  },
  {
   "cell_type": "markdown",
   "id": "791fe03d",
   "metadata": {
    "id": "KQpDIxrBoGEu",
    "papermill": {
     "duration": 0.021995,
     "end_time": "2023-01-17T18:51:12.793706",
     "exception": false,
     "start_time": "2023-01-17T18:51:12.771711",
     "status": "completed"
    },
    "tags": []
   },
   "source": [
    "Next, a line of code is run to see if there are any null values present in the dataframe. This can also be seen in the info() function above. "
   ]
  },
  {
   "cell_type": "code",
   "execution_count": 6,
   "id": "752aba60",
   "metadata": {
    "execution": {
     "iopub.execute_input": "2023-01-17T18:51:12.842998Z",
     "iopub.status.busy": "2023-01-17T18:51:12.842509Z",
     "iopub.status.idle": "2023-01-17T18:51:12.853433Z",
     "shell.execute_reply": "2023-01-17T18:51:12.852200Z"
    },
    "id": "eek9h86rBQnX",
    "outputId": "9f8c2afd-f898-4b23-b349-4015222c6350",
    "papermill": {
     "duration": 0.037759,
     "end_time": "2023-01-17T18:51:12.855733",
     "exception": false,
     "start_time": "2023-01-17T18:51:12.817974",
     "status": "completed"
    },
    "tags": []
   },
   "outputs": [
    {
     "data": {
      "text/plain": [
       "gender                         0\n",
       "race/ethnicity                 0\n",
       "parental level of education    0\n",
       "lunch                          0\n",
       "test preparation course        0\n",
       "math score                     0\n",
       "reading score                  0\n",
       "writing score                  0\n",
       "dtype: int64"
      ]
     },
     "execution_count": 6,
     "metadata": {},
     "output_type": "execute_result"
    }
   ],
   "source": [
    "students.isnull().sum()"
   ]
  },
  {
   "cell_type": "markdown",
   "id": "12ce85e5",
   "metadata": {
    "id": "WNxCjzurn4tg",
    "papermill": {
     "duration": 0.022349,
     "end_time": "2023-01-17T18:51:12.900721",
     "exception": false,
     "start_time": "2023-01-17T18:51:12.878372",
     "status": "completed"
    },
    "tags": []
   },
   "source": [
    "In addition, there's a check to see if there are any duplicates in the dataframe."
   ]
  },
  {
   "cell_type": "code",
   "execution_count": 7,
   "id": "2f9ab672",
   "metadata": {
    "execution": {
     "iopub.execute_input": "2023-01-17T18:51:12.948704Z",
     "iopub.status.busy": "2023-01-17T18:51:12.947569Z",
     "iopub.status.idle": "2023-01-17T18:51:12.957136Z",
     "shell.execute_reply": "2023-01-17T18:51:12.956039Z"
    },
    "id": "rsOaE22enN2R",
    "outputId": "2166afcf-05dd-437a-8e03-55c2ca898001",
    "papermill": {
     "duration": 0.035985,
     "end_time": "2023-01-17T18:51:12.959356",
     "exception": false,
     "start_time": "2023-01-17T18:51:12.923371",
     "status": "completed"
    },
    "tags": []
   },
   "outputs": [
    {
     "data": {
      "text/plain": [
       "0"
      ]
     },
     "execution_count": 7,
     "metadata": {},
     "output_type": "execute_result"
    }
   ],
   "source": [
    "students.duplicated().sum()"
   ]
  },
  {
   "cell_type": "markdown",
   "id": "2f156b51",
   "metadata": {
    "id": "UrEzN81GbT1o",
    "papermill": {
     "duration": 0.022295,
     "end_time": "2023-01-17T18:51:13.004322",
     "exception": false,
     "start_time": "2023-01-17T18:51:12.982027",
     "status": "completed"
    },
    "tags": []
   },
   "source": [
    "A pairplot is created to see the distribution of the numerical data among males and females."
   ]
  },
  {
   "cell_type": "code",
   "execution_count": 8,
   "id": "9734f0e7",
   "metadata": {
    "execution": {
     "iopub.execute_input": "2023-01-17T18:51:13.051221Z",
     "iopub.status.busy": "2023-01-17T18:51:13.050790Z",
     "iopub.status.idle": "2023-01-17T18:51:16.414361Z",
     "shell.execute_reply": "2023-01-17T18:51:16.412877Z"
    },
    "id": "yQSsxM40056W",
    "outputId": "aea4ff21-2f86-40fe-a09d-f945a7cd12e5",
    "papermill": {
     "duration": 3.391725,
     "end_time": "2023-01-17T18:51:16.418894",
     "exception": false,
     "start_time": "2023-01-17T18:51:13.027169",
     "status": "completed"
    },
    "tags": []
   },
   "outputs": [
    {
     "data": {
      "text/plain": [
       "<seaborn.axisgrid.PairGrid at 0x7fdece7b4750>"
      ]
     },
     "execution_count": 8,
     "metadata": {},
     "output_type": "execute_result"
    },
    {
     "data": {
      "image/png": "[encoded data removed]",
      "text/plain": [
       "<Figure size 610.5x540 with 12 Axes>"
      ]
     },
     "metadata": {},
     "output_type": "display_data"
    }
   ],
   "source": [
    "sns.pairplot(students, hue = 'gender')"
   ]
  },
  {
   "cell_type": "markdown",
   "id": "36bec906",
   "metadata": {
    "id": "nV2wFcJPlIZS",
    "papermill": {
     "duration": 0.027943,
     "end_time": "2023-01-17T18:51:16.472779",
     "exception": false,
     "start_time": "2023-01-17T18:51:16.444836",
     "status": "completed"
    },
    "tags": []
   },
   "source": [
    "<a id = 'section-2'></a>\n",
    "## **Countplots**"
   ]
  },
  {
   "cell_type": "markdown",
   "id": "bd749317",
   "metadata": {
    "id": "Fe8rQGrfl-Ck",
    "papermill": {
     "duration": 0.025077,
     "end_time": "2023-01-17T18:51:16.522850",
     "exception": false,
     "start_time": "2023-01-17T18:51:16.497773",
     "status": "completed"
    },
    "tags": []
   },
   "source": [
    "Various countplots are created to see the distribution of the data among the categorical variables. The variables are: gender, race/ethnicity, parental level of education, test preparation course, and lunch."
   ]
  },
  {
   "cell_type": "code",
   "execution_count": 9,
   "id": "0d21cdfb",
   "metadata": {
    "execution": {
     "iopub.execute_input": "2023-01-17T18:51:16.575693Z",
     "iopub.status.busy": "2023-01-17T18:51:16.575285Z",
     "iopub.status.idle": "2023-01-17T18:51:16.779830Z",
     "shell.execute_reply": "2023-01-17T18:51:16.778872Z"
    },
    "id": "frtTarK7Ck6D",
    "outputId": "69887577-984e-4999-a9d7-4bf23b0cd877",
    "papermill": {
     "duration": 0.234354,
     "end_time": "2023-01-17T18:51:16.782789",
     "exception": false,
     "start_time": "2023-01-17T18:51:16.548435",
     "status": "completed"
    },
    "tags": []
   },
   "outputs": [
    {
     "data": {
      "text/plain": [
       "<AxesSubplot:xlabel='gender', ylabel='count'>"
      ]
     },
     "execution_count": 9,
     "metadata": {},
     "output_type": "execute_result"
    },
    {
     "data": {
      "image/png": "[encoded data removed]",
      "text/plain": [
       "<Figure size 432x288 with 1 Axes>"
      ]
     },
     "metadata": {},
     "output_type": "display_data"
    }
   ],
   "source": [
    "sns.countplot(x = 'gender', data = students, palette = 'viridis')"
   ]
  },
  {
   "cell_type": "code",
   "execution_count": 10,
   "id": "452aa309",
   "metadata": {
    "execution": {
     "iopub.execute_input": "2023-01-17T18:51:16.839120Z",
     "iopub.status.busy": "2023-01-17T18:51:16.838037Z",
     "iopub.status.idle": "2023-01-17T18:51:16.847724Z",
     "shell.execute_reply": "2023-01-17T18:51:16.846478Z"
    },
    "id": "rotDorWqeWdf",
    "outputId": "7bf7b2af-72f7-4c06-a5be-60fc1d3f5e75",
    "papermill": {
     "duration": 0.039752,
     "end_time": "2023-01-17T18:51:16.850186",
     "exception": false,
     "start_time": "2023-01-17T18:51:16.810434",
     "status": "completed"
    },
    "tags": []
   },
   "outputs": [
    {
     "data": {
      "text/plain": [
       "female    518\n",
       "male      482\n",
       "Name: gender, dtype: int64"
      ]
     },
     "execution_count": 10,
     "metadata": {},
     "output_type": "execute_result"
    }
   ],
   "source": [
    "students['gender'].value_counts()"
   ]
  },
  {
   "cell_type": "markdown",
   "id": "d061c497",
   "metadata": {
    "id": "PAjj0Vp2c5wr",
    "papermill": {
     "duration": 0.024912,
     "end_time": "2023-01-17T18:51:16.901906",
     "exception": false,
     "start_time": "2023-01-17T18:51:16.876994",
     "status": "completed"
    },
    "tags": []
   },
   "source": [
    "From the gender countplot and count table, there are more females than males in the data. This is something to keep in mind when determining if there is a difference in test scores between the two genders."
   ]
  },
  {
   "cell_type": "code",
   "execution_count": 11,
   "id": "bb075b84",
   "metadata": {
    "execution": {
     "iopub.execute_input": "2023-01-17T18:51:16.955271Z",
     "iopub.status.busy": "2023-01-17T18:51:16.954055Z",
     "iopub.status.idle": "2023-01-17T18:51:17.196838Z",
     "shell.execute_reply": "2023-01-17T18:51:17.195631Z"
    },
    "id": "BJAMi2wkMEif",
    "outputId": "7f02623f-d8cc-426c-f1b0-50cfa281160a",
    "papermill": {
     "duration": 0.272338,
     "end_time": "2023-01-17T18:51:17.199551",
     "exception": false,
     "start_time": "2023-01-17T18:51:16.927213",
     "status": "completed"
    },
    "tags": []
   },
   "outputs": [
    {
     "data": {
      "text/plain": [
       "<AxesSubplot:xlabel='race/ethnicity', ylabel='count'>"
      ]
     },
     "execution_count": 11,
     "metadata": {},
     "output_type": "execute_result"
    },
    {
     "data": {
      "image/png": "[encoded data removed]",
      "text/plain": [
       "<Figure size 432x288 with 1 Axes>"
      ]
     },
     "metadata": {},
     "output_type": "display_data"
    }
   ],
   "source": [
    "sns.countplot(x = 'race/ethnicity', data = students, palette = 'mako')"
   ]
  },
  {
   "cell_type": "code",
   "execution_count": 12,
   "id": "407fac03",
   "metadata": {
    "execution": {
     "iopub.execute_input": "2023-01-17T18:51:17.253865Z",
     "iopub.status.busy": "2023-01-17T18:51:17.253456Z",
     "iopub.status.idle": "2023-01-17T18:51:17.263140Z",
     "shell.execute_reply": "2023-01-17T18:51:17.261786Z"
    },
    "id": "geyffxsiepHV",
    "outputId": "c1e5b52f-aa8b-4cd9-deef-42fcb9802135",
    "papermill": {
     "duration": 0.039837,
     "end_time": "2023-01-17T18:51:17.265490",
     "exception": false,
     "start_time": "2023-01-17T18:51:17.225653",
     "status": "completed"
    },
    "tags": []
   },
   "outputs": [
    {
     "data": {
      "text/plain": [
       "group C    319\n",
       "group D    262\n",
       "group B    190\n",
       "group E    140\n",
       "group A     89\n",
       "Name: race/ethnicity, dtype: int64"
      ]
     },
     "execution_count": 12,
     "metadata": {},
     "output_type": "execute_result"
    }
   ],
   "source": [
    "students['race/ethnicity'].value_counts()"
   ]
  },
  {
   "cell_type": "markdown",
   "id": "67632b06",
   "metadata": {
    "id": "dy3fImBqezrT",
    "papermill": {
     "duration": 0.026466,
     "end_time": "2023-01-17T18:51:17.317682",
     "exception": false,
     "start_time": "2023-01-17T18:51:17.291216",
     "status": "completed"
    },
    "tags": []
   },
   "source": [
    "From the race/ethnicity countplot and count table, the groups are not equally distributed among the data. For example, there are significantly more participants in group C compared to group A. This is something to keep in mind when determining if there is a difference in test scores between race/ethnicity."
   ]
  },
  {
   "cell_type": "code",
   "execution_count": 13,
   "id": "f1e0d43d",
   "metadata": {
    "execution": {
     "iopub.execute_input": "2023-01-17T18:51:17.372664Z",
     "iopub.status.busy": "2023-01-17T18:51:17.371885Z",
     "iopub.status.idle": "2023-01-17T18:51:17.642335Z",
     "shell.execute_reply": "2023-01-17T18:51:17.641187Z"
    },
    "id": "o0wS6aFgk449",
    "outputId": "3b2f25bd-66f5-425f-d085-5624216e1029",
    "papermill": {
     "duration": 0.301707,
     "end_time": "2023-01-17T18:51:17.645400",
     "exception": false,
     "start_time": "2023-01-17T18:51:17.343693",
     "status": "completed"
    },
    "tags": []
   },
   "outputs": [
    {
     "data": {
      "text/plain": [
       "<AxesSubplot:xlabel='parental level of education', ylabel='count'>"
      ]
     },
     "execution_count": 13,
     "metadata": {},
     "output_type": "execute_result"
    },
    {
     "data": {
      "image/png": "[encoded data removed]",
      "text/plain": [
       "<Figure size 864x432 with 1 Axes>"
      ]
     },
     "metadata": {},
     "output_type": "display_data"
    }
   ],
   "source": [
    "plt.figure(figsize=(12,6))\n",
    "sns.countplot(x = 'parental level of education', data = students, palette = 'rocket')"
   ]
  },
  {
   "cell_type": "code",
   "execution_count": 14,
   "id": "5c2bcfb7",
   "metadata": {
    "execution": {
     "iopub.execute_input": "2023-01-17T18:51:17.700144Z",
     "iopub.status.busy": "2023-01-17T18:51:17.699667Z",
     "iopub.status.idle": "2023-01-17T18:51:17.709219Z",
     "shell.execute_reply": "2023-01-17T18:51:17.708025Z"
    },
    "id": "1JdXgGu8et_-",
    "outputId": "234f3d32-3a12-471e-cefe-a1dfee2987a7",
    "papermill": {
     "duration": 0.039721,
     "end_time": "2023-01-17T18:51:17.711645",
     "exception": false,
     "start_time": "2023-01-17T18:51:17.671924",
     "status": "completed"
    },
    "tags": []
   },
   "outputs": [
    {
     "data": {
      "text/plain": [
       "some college          226\n",
       "associate's degree    222\n",
       "high school           196\n",
       "some high school      179\n",
       "bachelor's degree     118\n",
       "master's degree        59\n",
       "Name: parental level of education, dtype: int64"
      ]
     },
     "execution_count": 14,
     "metadata": {},
     "output_type": "execute_result"
    }
   ],
   "source": [
    "students['parental level of education'].value_counts()"
   ]
  },
  {
   "cell_type": "markdown",
   "id": "f4200421",
   "metadata": {
    "id": "spv7DF8KfMQE",
    "papermill": {
     "duration": 0.026075,
     "end_time": "2023-01-17T18:51:17.764272",
     "exception": false,
     "start_time": "2023-01-17T18:51:17.738197",
     "status": "completed"
    },
    "tags": []
   },
   "source": [
    "From the parental level of education countplot and count table, the groups are not equally distributed among the data. For example, there are significantly more participants in whose parents received some college education compared to participants whose parents earned a master's degree. This is something to keep in mind when determining if there is a difference in test scores between parental level of education."
   ]
  },
  {
   "cell_type": "code",
   "execution_count": 15,
   "id": "7cdd0ad5",
   "metadata": {
    "execution": {
     "iopub.execute_input": "2023-01-17T18:51:17.819692Z",
     "iopub.status.busy": "2023-01-17T18:51:17.819283Z",
     "iopub.status.idle": "2023-01-17T18:51:18.035143Z",
     "shell.execute_reply": "2023-01-17T18:51:18.033830Z"
    },
    "id": "WqYf0qAXn272",
    "outputId": "72c8ccc0-e8f3-4ef3-a3c4-01ebada893de",
    "papermill": {
     "duration": 0.247115,
     "end_time": "2023-01-17T18:51:18.037925",
     "exception": false,
     "start_time": "2023-01-17T18:51:17.790810",
     "status": "completed"
    },
    "tags": []
   },
   "outputs": [
    {
     "data": {
      "text/plain": [
       "<AxesSubplot:xlabel='test preparation course', ylabel='count'>"
      ]
     },
     "execution_count": 15,
     "metadata": {},
     "output_type": "execute_result"
    },
    {
     "data": {
      "image/png": "[encoded data removed]",
      "text/plain": [
       "<Figure size 432x288 with 1 Axes>"
      ]
     },
     "metadata": {},
     "output_type": "display_data"
    }
   ],
   "source": [
    "sns.countplot(x = 'test preparation course', data = students, palette = 'YlOrBr')"
   ]
  },
  {
   "cell_type": "code",
   "execution_count": 16,
   "id": "d8f6bd63",
   "metadata": {
    "execution": {
     "iopub.execute_input": "2023-01-17T18:51:18.094795Z",
     "iopub.status.busy": "2023-01-17T18:51:18.093826Z",
     "iopub.status.idle": "2023-01-17T18:51:18.102917Z",
     "shell.execute_reply": "2023-01-17T18:51:18.101509Z"
    },
    "id": "fyVpPpE9fh8G",
    "outputId": "ead42ccb-2f8a-4237-bf8a-219496529b11",
    "papermill": {
     "duration": 0.040643,
     "end_time": "2023-01-17T18:51:18.105997",
     "exception": false,
     "start_time": "2023-01-17T18:51:18.065354",
     "status": "completed"
    },
    "tags": []
   },
   "outputs": [
    {
     "data": {
      "text/plain": [
       "none         642\n",
       "completed    358\n",
       "Name: test preparation course, dtype: int64"
      ]
     },
     "execution_count": 16,
     "metadata": {},
     "output_type": "execute_result"
    }
   ],
   "source": [
    "students['test preparation course'].value_counts()"
   ]
  },
  {
   "cell_type": "markdown",
   "id": "f04f021f",
   "metadata": {
    "id": "06pMY8ARfqWA",
    "papermill": {
     "duration": 0.027218,
     "end_time": "2023-01-17T18:51:18.161127",
     "exception": false,
     "start_time": "2023-01-17T18:51:18.133909",
     "status": "completed"
    },
    "tags": []
   },
   "source": [
    "From the test preparation course countplot and count table, there are significantly more students who did not complete the test preparation course compared to students who did complete the test preparation course. This is something to keep in mind when determining if there is a difference in test scores between test preparation course (yes/no)."
   ]
  },
  {
   "cell_type": "code",
   "execution_count": 17,
   "id": "6ed49a23",
   "metadata": {
    "execution": {
     "iopub.execute_input": "2023-01-17T18:51:18.218418Z",
     "iopub.status.busy": "2023-01-17T18:51:18.217670Z",
     "iopub.status.idle": "2023-01-17T18:51:18.359454Z",
     "shell.execute_reply": "2023-01-17T18:51:18.358657Z"
    },
    "id": "-mn1cYY_orew",
    "outputId": "06cb2839-765f-48c8-cc7f-01f7dc82de41",
    "papermill": {
     "duration": 0.175257,
     "end_time": "2023-01-17T18:51:18.363913",
     "exception": false,
     "start_time": "2023-01-17T18:51:18.188656",
     "status": "completed"
    },
    "tags": []
   },
   "outputs": [
    {
     "data": {
      "text/plain": [
       "<AxesSubplot:xlabel='lunch', ylabel='count'>"
      ]
     },
     "execution_count": 17,
     "metadata": {},
     "output_type": "execute_result"
    },
    {
     "data": {
      "image/png": "[encoded data removed]",
      "text/plain": [
       "<Figure size 432x288 with 1 Axes>"
      ]
     },
     "metadata": {},
     "output_type": "display_data"
    }
   ],
   "source": [
    "sns.countplot(x = 'lunch', data = students, palette = 'icefire')"
   ]
  },
  {
   "cell_type": "code",
   "execution_count": 18,
   "id": "2228df12",
   "metadata": {
    "execution": {
     "iopub.execute_input": "2023-01-17T18:51:18.431817Z",
     "iopub.status.busy": "2023-01-17T18:51:18.430640Z",
     "iopub.status.idle": "2023-01-17T18:51:18.440099Z",
     "shell.execute_reply": "2023-01-17T18:51:18.438702Z"
    },
    "id": "olsDOE5qfl_m",
    "outputId": "853e89f5-83dd-4ad4-f927-90dcabac97e9",
    "papermill": {
     "duration": 0.042081,
     "end_time": "2023-01-17T18:51:18.443262",
     "exception": false,
     "start_time": "2023-01-17T18:51:18.401181",
     "status": "completed"
    },
    "tags": []
   },
   "outputs": [
    {
     "data": {
      "text/plain": [
       "standard        645\n",
       "free/reduced    355\n",
       "Name: lunch, dtype: int64"
      ]
     },
     "execution_count": 18,
     "metadata": {},
     "output_type": "execute_result"
    }
   ],
   "source": [
    "students['lunch'].value_counts()"
   ]
  },
  {
   "cell_type": "markdown",
   "id": "ceb174e8",
   "metadata": {
    "id": "SMLbOpExgDHd",
    "papermill": {
     "duration": 0.026992,
     "end_time": "2023-01-17T18:51:18.498276",
     "exception": false,
     "start_time": "2023-01-17T18:51:18.471284",
     "status": "completed"
    },
    "tags": []
   },
   "source": [
    "From the lunch countplot and count table, there are significantly more students who are in the standard lunch program compared to participants who are part of the free/reduced lunch program. This is something to keep in mind when determining if there is a difference in test scores between type of lunch program."
   ]
  },
  {
   "cell_type": "markdown",
   "id": "1f43c6f4",
   "metadata": {
    "id": "x-sFua22wqGT",
    "papermill": {
     "duration": 0.027246,
     "end_time": "2023-01-17T18:51:18.554000",
     "exception": false,
     "start_time": "2023-01-17T18:51:18.526754",
     "status": "completed"
    },
    "tags": []
   },
   "source": [
    "<a id = 'section-3'></a>\n",
    "## **Box Plots**"
   ]
  },
  {
   "cell_type": "markdown",
   "id": "72cbc1fd",
   "metadata": {
    "id": "wg6CBmAvbvQX",
    "papermill": {
     "duration": 0.02734,
     "end_time": "2023-01-17T18:51:18.608760",
     "exception": false,
     "start_time": "2023-01-17T18:51:18.581420",
     "status": "completed"
    },
    "tags": []
   },
   "source": [
    "Box Plots are also created to view the distribution of the various test scores among each categorical variable."
   ]
  },
  {
   "cell_type": "code",
   "execution_count": 19,
   "id": "1b283401",
   "metadata": {
    "execution": {
     "iopub.execute_input": "2023-01-17T18:51:18.666427Z",
     "iopub.status.busy": "2023-01-17T18:51:18.665302Z",
     "iopub.status.idle": "2023-01-17T18:51:18.894926Z",
     "shell.execute_reply": "2023-01-17T18:51:18.893499Z"
    },
    "id": "FMTA1qUDoz-x",
    "outputId": "c9fc3996-931c-411f-9053-154e51b8590c",
    "papermill": {
     "duration": 0.261257,
     "end_time": "2023-01-17T18:51:18.897561",
     "exception": false,
     "start_time": "2023-01-17T18:51:18.636304",
     "status": "completed"
    },
    "tags": []
   },
   "outputs": [
    {
     "data": {
      "text/plain": [
       "<AxesSubplot:xlabel='gender', ylabel='math score'>"
      ]
     },
     "execution_count": 19,
     "metadata": {},
     "output_type": "execute_result"
    },
    {
     "data": {
      "image/png": "[encoded data removed]",
      "text/plain": [
       "<Figure size 432x288 with 1 Axes>"
      ]
     },
     "metadata": {},
     "output_type": "display_data"
    }
   ],
   "source": [
    "sns.boxplot(x = 'gender', y = 'math score', data = students, palette = 'viridis')"
   ]
  },
  {
   "cell_type": "code",
   "execution_count": 20,
   "id": "9ebc7515",
   "metadata": {
    "execution": {
     "iopub.execute_input": "2023-01-17T18:51:18.956496Z",
     "iopub.status.busy": "2023-01-17T18:51:18.956039Z",
     "iopub.status.idle": "2023-01-17T18:51:19.184207Z",
     "shell.execute_reply": "2023-01-17T18:51:19.182996Z"
    },
    "id": "ZDy3kzaOw_Cr",
    "outputId": "4c625438-c1f1-4d2a-aeed-b26bc73d733a",
    "papermill": {
     "duration": 0.260167,
     "end_time": "2023-01-17T18:51:19.187026",
     "exception": false,
     "start_time": "2023-01-17T18:51:18.926859",
     "status": "completed"
    },
    "tags": []
   },
   "outputs": [
    {
     "data": {
      "text/plain": [
       "<AxesSubplot:xlabel='gender', ylabel='writing score'>"
      ]
     },
     "execution_count": 20,
     "metadata": {},
     "output_type": "execute_result"
    },
    {
     "data": {
      "image/png": "[encoded data removed]",
      "text/plain": [
       "<Figure size 432x288 with 1 Axes>"
      ]
     },
     "metadata": {},
     "output_type": "display_data"
    }
   ],
   "source": [
    "sns.boxplot(x = 'gender', y = 'writing score', data = students, palette = 'viridis')"
   ]
  },
  {
   "cell_type": "code",
   "execution_count": 21,
   "id": "7b6e3202",
   "metadata": {
    "execution": {
     "iopub.execute_input": "2023-01-17T18:51:19.248532Z",
     "iopub.status.busy": "2023-01-17T18:51:19.248097Z",
     "iopub.status.idle": "2023-01-17T18:51:19.472081Z",
     "shell.execute_reply": "2023-01-17T18:51:19.470489Z"
    },
    "id": "cp-n5Cewyo_K",
    "outputId": "104d4d58-f117-474b-fce0-fdc8485b4846",
    "papermill": {
     "duration": 0.258425,
     "end_time": "2023-01-17T18:51:19.474655",
     "exception": false,
     "start_time": "2023-01-17T18:51:19.216230",
     "status": "completed"
    },
    "tags": []
   },
   "outputs": [
    {
     "data": {
      "text/plain": [
       "<AxesSubplot:xlabel='gender', ylabel='reading score'>"
      ]
     },
     "execution_count": 21,
     "metadata": {},
     "output_type": "execute_result"
    },
    {
     "data": {
      "image/png": "[encoded data removed]",
      "text/plain": [
       "<Figure size 432x288 with 1 Axes>"
      ]
     },
     "metadata": {},
     "output_type": "display_data"
    }
   ],
   "source": [
    "sns.boxplot(x = 'gender', y = 'reading score', data = students, palette = 'viridis')"
   ]
  },
  {
   "cell_type": "markdown",
   "id": "0694b774",
   "metadata": {
    "id": "GhGnCCdIccUu",
    "papermill": {
     "duration": 0.02875,
     "end_time": "2023-01-17T18:51:19.531905",
     "exception": false,
     "start_time": "2023-01-17T18:51:19.503155",
     "status": "completed"
    },
    "tags": []
   },
   "source": [
    "From the box plots based on gender, there appears to be a difference in test scores between the two genders. It appears males performed better on the math exam, while females performed better on the reading and writing exams."
   ]
  },
  {
   "cell_type": "code",
   "execution_count": 22,
   "id": "1b543c12",
   "metadata": {
    "execution": {
     "iopub.execute_input": "2023-01-17T18:51:19.590564Z",
     "iopub.status.busy": "2023-01-17T18:51:19.589913Z",
     "iopub.status.idle": "2023-01-17T18:51:20.022601Z",
     "shell.execute_reply": "2023-01-17T18:51:20.021702Z"
    },
    "id": "zDxbhzpfyrkw",
    "outputId": "1f696931-11eb-4bb9-f039-044d7bc87dfb",
    "papermill": {
     "duration": 0.46512,
     "end_time": "2023-01-17T18:51:20.025107",
     "exception": false,
     "start_time": "2023-01-17T18:51:19.559987",
     "status": "completed"
    },
    "tags": []
   },
   "outputs": [
    {
     "data": {
      "text/plain": [
       "<AxesSubplot:xlabel='race/ethnicity', ylabel='math score'>"
      ]
     },
     "execution_count": 22,
     "metadata": {},
     "output_type": "execute_result"
    },
    {
     "data": {
      "image/png": "[encoded data removed]",
      "text/plain": [
       "<Figure size 432x288 with 1 Axes>"
      ]
     },
     "metadata": {},
     "output_type": "display_data"
    }
   ],
   "source": [
    "sns.boxplot(x = 'race/ethnicity', y = 'math score', data = students, palette = 'mako')"
   ]
  },
  {
   "cell_type": "code",
   "execution_count": 23,
   "id": "8dc9a1c9",
   "metadata": {
    "execution": {
     "iopub.execute_input": "2023-01-17T18:51:20.084543Z",
     "iopub.status.busy": "2023-01-17T18:51:20.083884Z",
     "iopub.status.idle": "2023-01-17T18:51:20.372634Z",
     "shell.execute_reply": "2023-01-17T18:51:20.371664Z"
    },
    "id": "nw8V-ZjMy8-i",
    "outputId": "aa8c0f10-f9f1-4618-efde-480c0610e086",
    "papermill": {
     "duration": 0.321706,
     "end_time": "2023-01-17T18:51:20.375185",
     "exception": false,
     "start_time": "2023-01-17T18:51:20.053479",
     "status": "completed"
    },
    "tags": []
   },
   "outputs": [
    {
     "data": {
      "text/plain": [
       "<AxesSubplot:xlabel='race/ethnicity', ylabel='writing score'>"
      ]
     },
     "execution_count": 23,
     "metadata": {},
     "output_type": "execute_result"
    },
    {
     "data": {
      "image/png": "[encoded data removed]",
      "text/plain": [
       "<Figure size 432x288 with 1 Axes>"
      ]
     },
     "metadata": {},
     "output_type": "display_data"
    }
   ],
   "source": [
    "sns.boxplot(x = 'race/ethnicity', y = 'writing score', data = students, palette = 'mako')"
   ]
  },
  {
   "cell_type": "code",
   "execution_count": 24,
   "id": "96e432b2",
   "metadata": {
    "execution": {
     "iopub.execute_input": "2023-01-17T18:51:20.438700Z",
     "iopub.status.busy": "2023-01-17T18:51:20.438050Z",
     "iopub.status.idle": "2023-01-17T18:51:20.719470Z",
     "shell.execute_reply": "2023-01-17T18:51:20.718585Z"
    },
    "id": "vKzN8B8hy45Z",
    "outputId": "305974ab-08cf-4c56-94ec-162fce0e4619",
    "papermill": {
     "duration": 0.31543,
     "end_time": "2023-01-17T18:51:20.721873",
     "exception": false,
     "start_time": "2023-01-17T18:51:20.406443",
     "status": "completed"
    },
    "tags": []
   },
   "outputs": [
    {
     "data": {
      "text/plain": [
       "<AxesSubplot:xlabel='race/ethnicity', ylabel='reading score'>"
      ]
     },
     "execution_count": 24,
     "metadata": {},
     "output_type": "execute_result"
    },
    {
     "data": {
      "image/png": "[encoded data removed]",
      "text/plain": [
       "<Figure size 432x288 with 1 Axes>"
      ]
     },
     "metadata": {},
     "output_type": "display_data"
    }
   ],
   "source": [
    "sns.boxplot(x = 'race/ethnicity', y = 'reading score', data = students, palette = 'mako')"
   ]
  },
  {
   "cell_type": "markdown",
   "id": "e3860565",
   "metadata": {
    "id": "pIKUtPd3gZhR",
    "papermill": {
     "duration": 0.029696,
     "end_time": "2023-01-17T18:51:20.782799",
     "exception": false,
     "start_time": "2023-01-17T18:51:20.753103",
     "status": "completed"
    },
    "tags": []
   },
   "source": [
    "From the box plots based on race/ethnicity, there appears to be a difference in test scores between each group."
   ]
  },
  {
   "cell_type": "code",
   "execution_count": 25,
   "id": "3cda854f",
   "metadata": {
    "execution": {
     "iopub.execute_input": "2023-01-17T18:51:20.845309Z",
     "iopub.status.busy": "2023-01-17T18:51:20.844530Z",
     "iopub.status.idle": "2023-01-17T18:51:21.174394Z",
     "shell.execute_reply": "2023-01-17T18:51:21.173381Z"
    },
    "id": "br6Fv8HQzFgL",
    "outputId": "80658468-91a1-4fe1-f636-4a4268ea8298",
    "papermill": {
     "duration": 0.363655,
     "end_time": "2023-01-17T18:51:21.176940",
     "exception": false,
     "start_time": "2023-01-17T18:51:20.813285",
     "status": "completed"
    },
    "tags": []
   },
   "outputs": [
    {
     "data": {
      "text/plain": [
       "<AxesSubplot:xlabel='parental level of education', ylabel='math score'>"
      ]
     },
     "execution_count": 25,
     "metadata": {},
     "output_type": "execute_result"
    },
    {
     "data": {
      "image/png": "[encoded data removed]",
      "text/plain": [
       "<Figure size 792x360 with 1 Axes>"
      ]
     },
     "metadata": {},
     "output_type": "display_data"
    }
   ],
   "source": [
    "plt.figure(figsize = (11,5))\n",
    "sns.boxplot(x = 'parental level of education', y = 'math score', data = students, palette = 'rocket')"
   ]
  },
  {
   "cell_type": "code",
   "execution_count": 26,
   "id": "88cb756a",
   "metadata": {
    "execution": {
     "iopub.execute_input": "2023-01-17T18:51:21.238425Z",
     "iopub.status.busy": "2023-01-17T18:51:21.237974Z",
     "iopub.status.idle": "2023-01-17T18:51:21.558288Z",
     "shell.execute_reply": "2023-01-17T18:51:21.557426Z"
    },
    "id": "toxVejjzzRP-",
    "outputId": "e80118d9-2edb-4289-ce0b-d07b64844927",
    "papermill": {
     "duration": 0.35467,
     "end_time": "2023-01-17T18:51:21.561354",
     "exception": false,
     "start_time": "2023-01-17T18:51:21.206684",
     "status": "completed"
    },
    "tags": []
   },
   "outputs": [
    {
     "data": {
      "text/plain": [
       "<AxesSubplot:xlabel='parental level of education', ylabel='writing score'>"
      ]
     },
     "execution_count": 26,
     "metadata": {},
     "output_type": "execute_result"
    },
    {
     "data": {
      "image/png": "[encoded data removed]",
      "text/plain": [
       "<Figure size 792x360 with 1 Axes>"
      ]
     },
     "metadata": {},
     "output_type": "display_data"
    }
   ],
   "source": [
    "plt.figure(figsize = (11,5))\n",
    "sns.boxplot(x = 'parental level of education', y = 'writing score', data = students, palette = 'rocket')"
   ]
  },
  {
   "cell_type": "code",
   "execution_count": 27,
   "id": "5e237a1c",
   "metadata": {
    "execution": {
     "iopub.execute_input": "2023-01-17T18:51:21.632300Z",
     "iopub.status.busy": "2023-01-17T18:51:21.631541Z",
     "iopub.status.idle": "2023-01-17T18:51:21.950211Z",
     "shell.execute_reply": "2023-01-17T18:51:21.949033Z"
    },
    "id": "8ipT3ssrzTwz",
    "outputId": "8b7e1f2e-54a8-4bab-b025-529aa5c57d94",
    "papermill": {
     "duration": 0.35864,
     "end_time": "2023-01-17T18:51:21.952715",
     "exception": false,
     "start_time": "2023-01-17T18:51:21.594075",
     "status": "completed"
    },
    "tags": []
   },
   "outputs": [
    {
     "data": {
      "text/plain": [
       "<AxesSubplot:xlabel='parental level of education', ylabel='reading score'>"
      ]
     },
     "execution_count": 27,
     "metadata": {},
     "output_type": "execute_result"
    },
    {
     "data": {
      "image/png": "[encoded data removed]",
      "text/plain": [
       "<Figure size 792x360 with 1 Axes>"
      ]
     },
     "metadata": {},
     "output_type": "display_data"
    }
   ],
   "source": [
    "plt.figure(figsize = (11,5))\n",
    "sns.boxplot(x = 'parental level of education', y = 'reading score', data = students, palette = 'rocket')"
   ]
  },
  {
   "cell_type": "markdown",
   "id": "4d0c9475",
   "metadata": {
    "id": "OI_Z8B3igiyv",
    "papermill": {
     "duration": 0.031352,
     "end_time": "2023-01-17T18:51:22.015085",
     "exception": false,
     "start_time": "2023-01-17T18:51:21.983733",
     "status": "completed"
    },
    "tags": []
   },
   "source": [
    "From the box plots based on parental level of education, there appears to be a difference in test scores between each group."
   ]
  },
  {
   "cell_type": "code",
   "execution_count": 28,
   "id": "321f8045",
   "metadata": {
    "execution": {
     "iopub.execute_input": "2023-01-17T18:51:22.096541Z",
     "iopub.status.busy": "2023-01-17T18:51:22.094980Z",
     "iopub.status.idle": "2023-01-17T18:51:22.349190Z",
     "shell.execute_reply": "2023-01-17T18:51:22.348003Z"
    },
    "id": "RnjxdsA0TWHn",
    "outputId": "517dfdfc-0bdd-4be3-fbc1-39c7d7a3f127",
    "papermill": {
     "duration": 0.305636,
     "end_time": "2023-01-17T18:51:22.352183",
     "exception": false,
     "start_time": "2023-01-17T18:51:22.046547",
     "status": "completed"
    },
    "tags": []
   },
   "outputs": [
    {
     "data": {
      "text/plain": [
       "<AxesSubplot:xlabel='test preparation course', ylabel='math score'>"
      ]
     },
     "execution_count": 28,
     "metadata": {},
     "output_type": "execute_result"
    },
    {
     "data": {
      "image/png": "[encoded data removed]",
      "text/plain": [
       "<Figure size 432x288 with 1 Axes>"
      ]
     },
     "metadata": {},
     "output_type": "display_data"
    }
   ],
   "source": [
    "sns.boxplot(x = 'test preparation course', y = 'math score', data = students, palette = 'YlOrBr')"
   ]
  },
  {
   "cell_type": "code",
   "execution_count": 29,
   "id": "7c649807",
   "metadata": {
    "execution": {
     "iopub.execute_input": "2023-01-17T18:51:22.418827Z",
     "iopub.status.busy": "2023-01-17T18:51:22.418305Z",
     "iopub.status.idle": "2023-01-17T18:51:22.660750Z",
     "shell.execute_reply": "2023-01-17T18:51:22.659461Z"
    },
    "id": "J2Vhbu-OTl5t",
    "outputId": "1eb27c39-7f30-4dc7-86a6-d02a7c73a4f5",
    "papermill": {
     "duration": 0.278999,
     "end_time": "2023-01-17T18:51:22.663479",
     "exception": false,
     "start_time": "2023-01-17T18:51:22.384480",
     "status": "completed"
    },
    "tags": []
   },
   "outputs": [
    {
     "data": {
      "text/plain": [
       "<AxesSubplot:xlabel='test preparation course', ylabel='reading score'>"
      ]
     },
     "execution_count": 29,
     "metadata": {},
     "output_type": "execute_result"
    },
    {
     "data": {
      "image/png": "[encoded data removed]",
      "text/plain": [
       "<Figure size 432x288 with 1 Axes>"
      ]
     },
     "metadata": {},
     "output_type": "display_data"
    }
   ],
   "source": [
    "sns.boxplot(x = 'test preparation course', y = 'reading score', data = students, palette = 'YlOrBr')"
   ]
  },
  {
   "cell_type": "code",
   "execution_count": 30,
   "id": "dd1ce23e",
   "metadata": {
    "execution": {
     "iopub.execute_input": "2023-01-17T18:51:22.729245Z",
     "iopub.status.busy": "2023-01-17T18:51:22.728795Z",
     "iopub.status.idle": "2023-01-17T18:51:22.957891Z",
     "shell.execute_reply": "2023-01-17T18:51:22.956975Z"
    },
    "id": "caSoa1gITpow",
    "outputId": "99275f40-ef4f-460f-f87e-210819e1af76",
    "papermill": {
     "duration": 0.26433,
     "end_time": "2023-01-17T18:51:22.960229",
     "exception": false,
     "start_time": "2023-01-17T18:51:22.695899",
     "status": "completed"
    },
    "tags": []
   },
   "outputs": [
    {
     "data": {
      "text/plain": [
       "<AxesSubplot:xlabel='test preparation course', ylabel='writing score'>"
      ]
     },
     "execution_count": 30,
     "metadata": {},
     "output_type": "execute_result"
    },
    {
     "data": {
      "image/png": "[encoded data removed]",
      "text/plain": [
       "<Figure size 432x288 with 1 Axes>"
      ]
     },
     "metadata": {},
     "output_type": "display_data"
    }
   ],
   "source": [
    "sns.boxplot(x = 'test preparation course', y = 'writing score', data = students, palette = 'YlOrBr')"
   ]
  },
  {
   "cell_type": "markdown",
   "id": "c4f05baa",
   "metadata": {
    "id": "cEd-0B92gmoe",
    "papermill": {
     "duration": 0.031159,
     "end_time": "2023-01-17T18:51:23.024548",
     "exception": false,
     "start_time": "2023-01-17T18:51:22.993389",
     "status": "completed"
    },
    "tags": []
   },
   "source": [
    "From the box plots based on test preparation course, there appears to be a difference in test scores between the two groups."
   ]
  },
  {
   "cell_type": "code",
   "execution_count": 31,
   "id": "19c0884f",
   "metadata": {
    "execution": {
     "iopub.execute_input": "2023-01-17T18:51:23.090421Z",
     "iopub.status.busy": "2023-01-17T18:51:23.089208Z",
     "iopub.status.idle": "2023-01-17T18:51:23.315749Z",
     "shell.execute_reply": "2023-01-17T18:51:23.314871Z"
    },
    "id": "xbH0B_YHX7mj",
    "outputId": "95da36e7-675b-4ef7-a663-1dbc3fcc3ece",
    "papermill": {
     "duration": 0.261672,
     "end_time": "2023-01-17T18:51:23.318031",
     "exception": false,
     "start_time": "2023-01-17T18:51:23.056359",
     "status": "completed"
    },
    "tags": []
   },
   "outputs": [
    {
     "data": {
      "text/plain": [
       "<AxesSubplot:xlabel='lunch', ylabel='math score'>"
      ]
     },
     "execution_count": 31,
     "metadata": {},
     "output_type": "execute_result"
    },
    {
     "data": {
      "image/png": "[encoded data removed]",
      "text/plain": [
       "<Figure size 432x288 with 1 Axes>"
      ]
     },
     "metadata": {},
     "output_type": "display_data"
    }
   ],
   "source": [
    "sns.boxplot(x = 'lunch', y = 'math score', data = students, palette = 'icefire')"
   ]
  },
  {
   "cell_type": "code",
   "execution_count": 32,
   "id": "abe69aab",
   "metadata": {
    "execution": {
     "iopub.execute_input": "2023-01-17T18:51:23.383374Z",
     "iopub.status.busy": "2023-01-17T18:51:23.382892Z",
     "iopub.status.idle": "2023-01-17T18:51:23.604415Z",
     "shell.execute_reply": "2023-01-17T18:51:23.603288Z"
    },
    "id": "q90Kpgn9YMxr",
    "outputId": "53bfa945-bba3-4d7c-deb2-d639cee1d809",
    "papermill": {
     "duration": 0.257205,
     "end_time": "2023-01-17T18:51:23.606981",
     "exception": false,
     "start_time": "2023-01-17T18:51:23.349776",
     "status": "completed"
    },
    "tags": []
   },
   "outputs": [
    {
     "data": {
      "text/plain": [
       "<AxesSubplot:xlabel='lunch', ylabel='reading score'>"
      ]
     },
     "execution_count": 32,
     "metadata": {},
     "output_type": "execute_result"
    },
    {
     "data": {
      "image/png": "[encoded data removed]",
      "text/plain": [
       "<Figure size 432x288 with 1 Axes>"
      ]
     },
     "metadata": {},
     "output_type": "display_data"
    }
   ],
   "source": [
    "sns.boxplot(x = 'lunch', y = 'reading score', data = students, palette = 'icefire')"
   ]
  },
  {
   "cell_type": "code",
   "execution_count": 33,
   "id": "fe8dc7eb",
   "metadata": {
    "execution": {
     "iopub.execute_input": "2023-01-17T18:51:23.675615Z",
     "iopub.status.busy": "2023-01-17T18:51:23.675174Z",
     "iopub.status.idle": "2023-01-17T18:51:23.896437Z",
     "shell.execute_reply": "2023-01-17T18:51:23.895239Z"
    },
    "id": "K9TISDIwYM-k",
    "outputId": "89a59211-1969-4c9c-a0c4-2fcdf04d18d4",
    "papermill": {
     "duration": 0.258344,
     "end_time": "2023-01-17T18:51:23.899198",
     "exception": false,
     "start_time": "2023-01-17T18:51:23.640854",
     "status": "completed"
    },
    "tags": []
   },
   "outputs": [
    {
     "data": {
      "text/plain": [
       "<AxesSubplot:xlabel='lunch', ylabel='writing score'>"
      ]
     },
     "execution_count": 33,
     "metadata": {},
     "output_type": "execute_result"
    },
    {
     "data": {
      "image/png": "[encoded data removed]",
      "text/plain": [
       "<Figure size 432x288 with 1 Axes>"
      ]
     },
     "metadata": {},
     "output_type": "display_data"
    }
   ],
   "source": [
    "sns.boxplot(x = 'lunch', y = 'writing score', data = students, palette = 'icefire')"
   ]
  },
  {
   "cell_type": "markdown",
   "id": "8685381a",
   "metadata": {
    "id": "gPlxhH3VgqF3",
    "papermill": {
     "duration": 0.032166,
     "end_time": "2023-01-17T18:51:23.964286",
     "exception": false,
     "start_time": "2023-01-17T18:51:23.932120",
     "status": "completed"
    },
    "tags": []
   },
   "source": [
    "From the box plots based on lunch program, there appears to be a difference in test scores between the two groups."
   ]
  },
  {
   "cell_type": "markdown",
   "id": "644e6c57",
   "metadata": {
    "id": "2rT3PaAA0SEw",
    "papermill": {
     "duration": 0.032353,
     "end_time": "2023-01-17T18:51:24.028986",
     "exception": false,
     "start_time": "2023-01-17T18:51:23.996633",
     "status": "completed"
    },
    "tags": []
   },
   "source": [
    "<a id = 'section-4'></a>\n",
    "## **Pass Rate**"
   ]
  },
  {
   "cell_type": "markdown",
   "id": "e5e7b641",
   "metadata": {
    "id": "oOOvUIfgOQ1K",
    "papermill": {
     "duration": 0.03261,
     "end_time": "2023-01-17T18:51:24.094670",
     "exception": false,
     "start_time": "2023-01-17T18:51:24.062060",
     "status": "completed"
    },
    "tags": []
   },
   "source": [
    "Below are the tables and charts created to examine the pass rates for each exam.\n",
    "\n",
    "First, the pass_rate variable is set at 60. I assume the passing grade is 60%, though this can be changed to the desirable pass percentage."
   ]
  },
  {
   "cell_type": "code",
   "execution_count": 34,
   "id": "d74c2ad1",
   "metadata": {
    "execution": {
     "iopub.execute_input": "2023-01-17T18:51:24.163130Z",
     "iopub.status.busy": "2023-01-17T18:51:24.162442Z",
     "iopub.status.idle": "2023-01-17T18:51:24.167378Z",
     "shell.execute_reply": "2023-01-17T18:51:24.166526Z"
    },
    "id": "vgLvG7C31yZJ",
    "papermill": {
     "duration": 0.041923,
     "end_time": "2023-01-17T18:51:24.169730",
     "exception": false,
     "start_time": "2023-01-17T18:51:24.127807",
     "status": "completed"
    },
    "tags": []
   },
   "outputs": [],
   "source": [
    "pass_rate = 60"
   ]
  },
  {
   "cell_type": "markdown",
   "id": "a1ebd91f",
   "metadata": {
    "id": "b7zdH_s9OxpC",
    "papermill": {
     "duration": 0.032287,
     "end_time": "2023-01-17T18:51:24.234694",
     "exception": false,
     "start_time": "2023-01-17T18:51:24.202407",
     "status": "completed"
    },
    "tags": []
   },
   "source": [
    "Next, a pass rate column is created for math, reading, and writing scores. \n",
    "These will be used for each group to determine the percentage of students that passed."
   ]
  },
  {
   "cell_type": "code",
   "execution_count": 35,
   "id": "879e51bb",
   "metadata": {
    "execution": {
     "iopub.execute_input": "2023-01-17T18:51:24.302206Z",
     "iopub.status.busy": "2023-01-17T18:51:24.301492Z",
     "iopub.status.idle": "2023-01-17T18:51:24.312481Z",
     "shell.execute_reply": "2023-01-17T18:51:24.311194Z"
    },
    "id": "pNqbssjt4Zwl",
    "outputId": "6ff82262-0f54-4e1a-9084-dc2ebce45d0a",
    "papermill": {
     "duration": 0.047633,
     "end_time": "2023-01-17T18:51:24.314938",
     "exception": false,
     "start_time": "2023-01-17T18:51:24.267305",
     "status": "completed"
    },
    "tags": []
   },
   "outputs": [
    {
     "data": {
      "text/plain": [
       "Pass    677\n",
       "Fail    323\n",
       "Name: Math_PassRate, dtype: int64"
      ]
     },
     "execution_count": 35,
     "metadata": {},
     "output_type": "execute_result"
    }
   ],
   "source": [
    "students['Math_PassRate'] = np.where(students['math score'] < pass_rate, 'Fail', 'Pass')\n",
    "students.Math_PassRate.value_counts()"
   ]
  },
  {
   "cell_type": "code",
   "execution_count": 36,
   "id": "4a54faeb",
   "metadata": {
    "execution": {
     "iopub.execute_input": "2023-01-17T18:51:24.381780Z",
     "iopub.status.busy": "2023-01-17T18:51:24.381383Z",
     "iopub.status.idle": "2023-01-17T18:51:24.391249Z",
     "shell.execute_reply": "2023-01-17T18:51:24.390329Z"
    },
    "id": "GDAASMgV5DgR",
    "outputId": "8821d8fb-9772-4f76-df88-00912c787cf1",
    "papermill": {
     "duration": 0.045846,
     "end_time": "2023-01-17T18:51:24.393276",
     "exception": false,
     "start_time": "2023-01-17T18:51:24.347430",
     "status": "completed"
    },
    "tags": []
   },
   "outputs": [
    {
     "data": {
      "text/plain": [
       "Pass    746\n",
       "Fail    254\n",
       "Name: Reading_PassRate, dtype: int64"
      ]
     },
     "execution_count": 36,
     "metadata": {},
     "output_type": "execute_result"
    }
   ],
   "source": [
    "students['Reading_PassRate'] = np.where(students['reading score'] < pass_rate, 'Fail', 'Pass')\n",
    "students.Reading_PassRate.value_counts()"
   ]
  },
  {
   "cell_type": "code",
   "execution_count": 37,
   "id": "16215e16",
   "metadata": {
    "execution": {
     "iopub.execute_input": "2023-01-17T18:51:24.460843Z",
     "iopub.status.busy": "2023-01-17T18:51:24.460151Z",
     "iopub.status.idle": "2023-01-17T18:51:24.470603Z",
     "shell.execute_reply": "2023-01-17T18:51:24.469274Z"
    },
    "id": "1-bPTwZY5SRT",
    "outputId": "f50ba0f2-b9fc-4790-cf24-ef4e2a9142d6",
    "papermill": {
     "duration": 0.046892,
     "end_time": "2023-01-17T18:51:24.472915",
     "exception": false,
     "start_time": "2023-01-17T18:51:24.426023",
     "status": "completed"
    },
    "tags": []
   },
   "outputs": [
    {
     "data": {
      "text/plain": [
       "Pass    719\n",
       "Fail    281\n",
       "Name: Writing_PassRate, dtype: int64"
      ]
     },
     "execution_count": 37,
     "metadata": {},
     "output_type": "execute_result"
    }
   ],
   "source": [
    "students['Writing_PassRate'] = np.where(students['writing score'] < pass_rate, 'Fail', 'Pass')\n",
    "students.Writing_PassRate.value_counts()"
   ]
  },
  {
   "cell_type": "markdown",
   "id": "bc320a5c",
   "metadata": {
    "id": "tYPl4zCMhDNB",
    "papermill": {
     "duration": 0.032429,
     "end_time": "2023-01-17T18:51:24.538489",
     "exception": false,
     "start_time": "2023-01-17T18:51:24.506060",
     "status": "completed"
    },
    "tags": []
   },
   "source": [
    "From the new column values above, we can also see more students passed the reading exam, while more students failed the math exam. "
   ]
  },
  {
   "cell_type": "markdown",
   "id": "4a2b7d0a",
   "metadata": {
    "id": "8VTg5SzKhUQw",
    "papermill": {
     "duration": 0.032416,
     "end_time": "2023-01-17T18:51:24.603797",
     "exception": false,
     "start_time": "2023-01-17T18:51:24.571381",
     "status": "completed"
    },
    "tags": []
   },
   "source": [
    "Below is the new dataframe based on the columns added:"
   ]
  },
  {
   "cell_type": "code",
   "execution_count": 38,
   "id": "f2532e82",
   "metadata": {
    "execution": {
     "iopub.execute_input": "2023-01-17T18:51:24.671033Z",
     "iopub.status.busy": "2023-01-17T18:51:24.670612Z",
     "iopub.status.idle": "2023-01-17T18:51:24.687251Z",
     "shell.execute_reply": "2023-01-17T18:51:24.685793Z"
    },
    "id": "3Fxj6kOBhROs",
    "outputId": "da3d0996-6cbd-49b6-cf96-8b7583e423e7",
    "papermill": {
     "duration": 0.0534,
     "end_time": "2023-01-17T18:51:24.689979",
     "exception": false,
     "start_time": "2023-01-17T18:51:24.636579",
     "status": "completed"
    },
    "tags": []
   },
   "outputs": [
    {
     "data": {
      "text/html": [
       "<div>\n",
       "<style scoped>\n",
       "    .dataframe tbody tr th:only-of-type {\n",
       "        vertical-align: middle;\n",
       "    }\n",
       "\n",
       "    .dataframe tbody tr th {\n",
       "        vertical-align: top;\n",
       "    }\n",
       "\n",
       "    .dataframe thead th {\n",
       "        text-align: right;\n",
       "    }\n",
       "</style>\n",
       "<table border=\"1\" class=\"dataframe\">\n",
       "  <thead>\n",
       "    <tr style=\"text-align: right;\">\n",
       "      <th></th>\n",
       "      <th>gender</th>\n",
       "      <th>race/ethnicity</th>\n",
       "      <th>parental level of education</th>\n",
       "      <th>lunch</th>\n",
       "      <th>test preparation course</th>\n",
       "      <th>math score</th>\n",
       "      <th>reading score</th>\n",
       "      <th>writing score</th>\n",
       "      <th>Math_PassRate</th>\n",
       "      <th>Reading_PassRate</th>\n",
       "      <th>Writing_PassRate</th>\n",
       "    </tr>\n",
       "  </thead>\n",
       "  <tbody>\n",
       "    <tr>\n",
       "      <th>0</th>\n",
       "      <td>female</td>\n",
       "      <td>group B</td>\n",
       "      <td>bachelor's degree</td>\n",
       "      <td>standard</td>\n",
       "      <td>none</td>\n",
       "      <td>72</td>\n",
       "      <td>72</td>\n",
       "      <td>74</td>\n",
       "      <td>Pass</td>\n",
       "      <td>Pass</td>\n",
       "      <td>Pass</td>\n",
       "    </tr>\n",
       "    <tr>\n",
       "      <th>1</th>\n",
       "      <td>female</td>\n",
       "      <td>group C</td>\n",
       "      <td>some college</td>\n",
       "      <td>standard</td>\n",
       "      <td>completed</td>\n",
       "      <td>69</td>\n",
       "      <td>90</td>\n",
       "      <td>88</td>\n",
       "      <td>Pass</td>\n",
       "      <td>Pass</td>\n",
       "      <td>Pass</td>\n",
       "    </tr>\n",
       "    <tr>\n",
       "      <th>2</th>\n",
       "      <td>female</td>\n",
       "      <td>group B</td>\n",
       "      <td>master's degree</td>\n",
       "      <td>standard</td>\n",
       "      <td>none</td>\n",
       "      <td>90</td>\n",
       "      <td>95</td>\n",
       "      <td>93</td>\n",
       "      <td>Pass</td>\n",
       "      <td>Pass</td>\n",
       "      <td>Pass</td>\n",
       "    </tr>\n",
       "    <tr>\n",
       "      <th>3</th>\n",
       "      <td>male</td>\n",
       "      <td>group A</td>\n",
       "      <td>associate's degree</td>\n",
       "      <td>free/reduced</td>\n",
       "      <td>none</td>\n",
       "      <td>47</td>\n",
       "      <td>57</td>\n",
       "      <td>44</td>\n",
       "      <td>Fail</td>\n",
       "      <td>Fail</td>\n",
       "      <td>Fail</td>\n",
       "    </tr>\n",
       "    <tr>\n",
       "      <th>4</th>\n",
       "      <td>male</td>\n",
       "      <td>group C</td>\n",
       "      <td>some college</td>\n",
       "      <td>standard</td>\n",
       "      <td>none</td>\n",
       "      <td>76</td>\n",
       "      <td>78</td>\n",
       "      <td>75</td>\n",
       "      <td>Pass</td>\n",
       "      <td>Pass</td>\n",
       "      <td>Pass</td>\n",
       "    </tr>\n",
       "  </tbody>\n",
       "</table>\n",
       "</div>"
      ],
      "text/plain": [
       "   gender race/ethnicity parental level of education         lunch  \\\n",
       "0  female        group B           bachelor's degree      standard   \n",
       "1  female        group C                some college      standard   \n",
       "2  female        group B             master's degree      standard   \n",
       "3    male        group A          associate's degree  free/reduced   \n",
       "4    male        group C                some college      standard   \n",
       "\n",
       "  test preparation course  math score  reading score  writing score  \\\n",
       "0                    none          72             72             74   \n",
       "1               completed          69             90             88   \n",
       "2                    none          90             95             93   \n",
       "3                    none          47             57             44   \n",
       "4                    none          76             78             75   \n",
       "\n",
       "  Math_PassRate Reading_PassRate Writing_PassRate  \n",
       "0          Pass             Pass             Pass  \n",
       "1          Pass             Pass             Pass  \n",
       "2          Pass             Pass             Pass  \n",
       "3          Fail             Fail             Fail  \n",
       "4          Pass             Pass             Pass  "
      ]
     },
     "execution_count": 38,
     "metadata": {},
     "output_type": "execute_result"
    }
   ],
   "source": [
    "students.head()"
   ]
  },
  {
   "cell_type": "markdown",
   "id": "c17ed1f7",
   "metadata": {
    "id": "_3H1ruLYPEjU",
    "papermill": {
     "duration": 0.033875,
     "end_time": "2023-01-17T18:51:24.757097",
     "exception": false,
     "start_time": "2023-01-17T18:51:24.723222",
     "status": "completed"
    },
    "tags": []
   },
   "source": [
    "From the columns created, a frequency table can be created to show the pass rate for each grouping. Below is the pass rate table and count plot for males and females on the math exam:"
   ]
  },
  {
   "cell_type": "code",
   "execution_count": 39,
   "id": "9d1843ef",
   "metadata": {
    "execution": {
     "iopub.execute_input": "2023-01-17T18:51:24.825626Z",
     "iopub.status.busy": "2023-01-17T18:51:24.825219Z",
     "iopub.status.idle": "2023-01-17T18:51:24.855340Z",
     "shell.execute_reply": "2023-01-17T18:51:24.854015Z"
    },
    "id": "NaTeGMiD-vk3",
    "outputId": "e0fa1fc2-cc2e-4044-d869-1b8bfe5e2803",
    "papermill": {
     "duration": 0.067404,
     "end_time": "2023-01-17T18:51:24.857889",
     "exception": false,
     "start_time": "2023-01-17T18:51:24.790485",
     "status": "completed"
    },
    "tags": []
   },
   "outputs": [
    {
     "data": {
      "text/html": [
       "<div>\n",
       "<style scoped>\n",
       "    .dataframe tbody tr th:only-of-type {\n",
       "        vertical-align: middle;\n",
       "    }\n",
       "\n",
       "    .dataframe tbody tr th {\n",
       "        vertical-align: top;\n",
       "    }\n",
       "\n",
       "    .dataframe thead th {\n",
       "        text-align: right;\n",
       "    }\n",
       "</style>\n",
       "<table border=\"1\" class=\"dataframe\">\n",
       "  <thead>\n",
       "    <tr style=\"text-align: right;\">\n",
       "      <th>Math_PassRate</th>\n",
       "      <th>Fail</th>\n",
       "      <th>Pass</th>\n",
       "      <th>PercentPass</th>\n",
       "    </tr>\n",
       "    <tr>\n",
       "      <th>gender</th>\n",
       "      <th></th>\n",
       "      <th></th>\n",
       "      <th></th>\n",
       "    </tr>\n",
       "  </thead>\n",
       "  <tbody>\n",
       "    <tr>\n",
       "      <th>female</th>\n",
       "      <td>197</td>\n",
       "      <td>321</td>\n",
       "      <td>61.97</td>\n",
       "    </tr>\n",
       "    <tr>\n",
       "      <th>male</th>\n",
       "      <td>126</td>\n",
       "      <td>356</td>\n",
       "      <td>73.86</td>\n",
       "    </tr>\n",
       "  </tbody>\n",
       "</table>\n",
       "</div>"
      ],
      "text/plain": [
       "Math_PassRate  Fail  Pass  PercentPass\n",
       "gender                                \n",
       "female          197   321        61.97\n",
       "male            126   356        73.86"
      ]
     },
     "execution_count": 39,
     "metadata": {},
     "output_type": "execute_result"
    }
   ],
   "source": [
    "math_table = pd.crosstab(index = students['gender'], columns = students['Math_PassRate'])\n",
    "math_table['PercentPass'] = round(math_table['Pass'] / (math_table['Pass'] + math_table['Fail'])*100,2)\n",
    "math_table"
   ]
  },
  {
   "cell_type": "code",
   "execution_count": 40,
   "id": "c9807028",
   "metadata": {
    "execution": {
     "iopub.execute_input": "2023-01-17T18:51:24.928737Z",
     "iopub.status.busy": "2023-01-17T18:51:24.928066Z",
     "iopub.status.idle": "2023-01-17T18:51:25.187964Z",
     "shell.execute_reply": "2023-01-17T18:51:25.186742Z"
    },
    "id": "McQk_rGp5XPf",
    "outputId": "73334a4a-ec5b-4431-f68f-e759bfda735b",
    "papermill": {
     "duration": 0.298404,
     "end_time": "2023-01-17T18:51:25.190768",
     "exception": false,
     "start_time": "2023-01-17T18:51:24.892364",
     "status": "completed"
    },
    "tags": []
   },
   "outputs": [
    {
     "data": {
      "text/plain": [
       "<AxesSubplot:xlabel='gender', ylabel='count'>"
      ]
     },
     "execution_count": 40,
     "metadata": {},
     "output_type": "execute_result"
    },
    {
     "data": {
      "image/png": "[encoded data removed]",
      "text/plain": [
       "<Figure size 720x360 with 1 Axes>"
      ]
     },
     "metadata": {},
     "output_type": "display_data"
    }
   ],
   "source": [
    "plt.figure(figsize = (10,5))\n",
    "sns.countplot(x = 'gender', data = students, hue = 'Math_PassRate', palette = 'viridis')"
   ]
  },
  {
   "cell_type": "markdown",
   "id": "f552afd1",
   "metadata": {
    "id": "fZ14NEJcPExS",
    "papermill": {
     "duration": 0.03327,
     "end_time": "2023-01-17T18:51:25.258048",
     "exception": false,
     "start_time": "2023-01-17T18:51:25.224778",
     "status": "completed"
    },
    "tags": []
   },
   "source": [
    "Below is the pass rate table and countplot for males and females on the reading exam:"
   ]
  },
  {
   "cell_type": "code",
   "execution_count": 41,
   "id": "cc02364f",
   "metadata": {
    "execution": {
     "iopub.execute_input": "2023-01-17T18:51:25.327267Z",
     "iopub.status.busy": "2023-01-17T18:51:25.326837Z",
     "iopub.status.idle": "2023-01-17T18:51:25.349889Z",
     "shell.execute_reply": "2023-01-17T18:51:25.348790Z"
    },
    "id": "WJLkJjJfEMMp",
    "outputId": "8f608723-e289-4dd4-ac52-93277bc8ba76",
    "papermill": {
     "duration": 0.060893,
     "end_time": "2023-01-17T18:51:25.352476",
     "exception": false,
     "start_time": "2023-01-17T18:51:25.291583",
     "status": "completed"
    },
    "tags": []
   },
   "outputs": [
    {
     "data": {
      "text/html": [
       "<div>\n",
       "<style scoped>\n",
       "    .dataframe tbody tr th:only-of-type {\n",
       "        vertical-align: middle;\n",
       "    }\n",
       "\n",
       "    .dataframe tbody tr th {\n",
       "        vertical-align: top;\n",
       "    }\n",
       "\n",
       "    .dataframe thead th {\n",
       "        text-align: right;\n",
       "    }\n",
       "</style>\n",
       "<table border=\"1\" class=\"dataframe\">\n",
       "  <thead>\n",
       "    <tr style=\"text-align: right;\">\n",
       "      <th>Reading_PassRate</th>\n",
       "      <th>Fail</th>\n",
       "      <th>Pass</th>\n",
       "      <th>PercentPass</th>\n",
       "    </tr>\n",
       "    <tr>\n",
       "      <th>gender</th>\n",
       "      <th></th>\n",
       "      <th></th>\n",
       "      <th></th>\n",
       "    </tr>\n",
       "  </thead>\n",
       "  <tbody>\n",
       "    <tr>\n",
       "      <th>female</th>\n",
       "      <td>91</td>\n",
       "      <td>427</td>\n",
       "      <td>82.43</td>\n",
       "    </tr>\n",
       "    <tr>\n",
       "      <th>male</th>\n",
       "      <td>163</td>\n",
       "      <td>319</td>\n",
       "      <td>66.18</td>\n",
       "    </tr>\n",
       "  </tbody>\n",
       "</table>\n",
       "</div>"
      ],
      "text/plain": [
       "Reading_PassRate  Fail  Pass  PercentPass\n",
       "gender                                   \n",
       "female              91   427        82.43\n",
       "male               163   319        66.18"
      ]
     },
     "execution_count": 41,
     "metadata": {},
     "output_type": "execute_result"
    }
   ],
   "source": [
    "reading_table = pd.crosstab(index = students['gender'], columns = students['Reading_PassRate'])\n",
    "reading_table['PercentPass'] = round(reading_table['Pass'] / (reading_table['Pass'] + reading_table['Fail'])*100,2)\n",
    "reading_table"
   ]
  },
  {
   "cell_type": "code",
   "execution_count": 42,
   "id": "cbcf5609",
   "metadata": {
    "execution": {
     "iopub.execute_input": "2023-01-17T18:51:25.425139Z",
     "iopub.status.busy": "2023-01-17T18:51:25.424032Z",
     "iopub.status.idle": "2023-01-17T18:51:25.664446Z",
     "shell.execute_reply": "2023-01-17T18:51:25.663195Z"
    },
    "id": "GLB6eWCb7E4_",
    "outputId": "5fcc8a68-6f93-4b6f-9f0d-1497c82b25d1",
    "papermill": {
     "duration": 0.280212,
     "end_time": "2023-01-17T18:51:25.667391",
     "exception": false,
     "start_time": "2023-01-17T18:51:25.387179",
     "status": "completed"
    },
    "tags": []
   },
   "outputs": [
    {
     "data": {
      "text/plain": [
       "<AxesSubplot:xlabel='gender', ylabel='count'>"
      ]
     },
     "execution_count": 42,
     "metadata": {},
     "output_type": "execute_result"
    },
    {
     "data": {
      "image/png": "[encoded data removed]",
      "text/plain": [
       "<Figure size 720x360 with 1 Axes>"
      ]
     },
     "metadata": {},
     "output_type": "display_data"
    }
   ],
   "source": [
    "plt.figure(figsize = (10,5))\n",
    "sns.countplot(x = 'gender', data = students, hue = 'Reading_PassRate', palette = 'viridis')"
   ]
  },
  {
   "cell_type": "markdown",
   "id": "fc470948",
   "metadata": {
    "id": "veoyAxcGRVZQ",
    "papermill": {
     "duration": 0.034719,
     "end_time": "2023-01-17T18:51:25.737509",
     "exception": false,
     "start_time": "2023-01-17T18:51:25.702790",
     "status": "completed"
    },
    "tags": []
   },
   "source": [
    "Below is the pass rate table and countplot for males and females on the writing exam:"
   ]
  },
  {
   "cell_type": "code",
   "execution_count": 43,
   "id": "7982ec5f",
   "metadata": {
    "execution": {
     "iopub.execute_input": "2023-01-17T18:51:25.809438Z",
     "iopub.status.busy": "2023-01-17T18:51:25.809000Z",
     "iopub.status.idle": "2023-01-17T18:51:25.834663Z",
     "shell.execute_reply": "2023-01-17T18:51:25.833229Z"
    },
    "id": "LBN8KHh-EbJM",
    "outputId": "b3aa4e81-0bce-4df2-b851-d5db18e89bbb",
    "papermill": {
     "duration": 0.065732,
     "end_time": "2023-01-17T18:51:25.837657",
     "exception": false,
     "start_time": "2023-01-17T18:51:25.771925",
     "status": "completed"
    },
    "tags": []
   },
   "outputs": [
    {
     "data": {
      "text/html": [
       "<div>\n",
       "<style scoped>\n",
       "    .dataframe tbody tr th:only-of-type {\n",
       "        vertical-align: middle;\n",
       "    }\n",
       "\n",
       "    .dataframe tbody tr th {\n",
       "        vertical-align: top;\n",
       "    }\n",
       "\n",
       "    .dataframe thead th {\n",
       "        text-align: right;\n",
       "    }\n",
       "</style>\n",
       "<table border=\"1\" class=\"dataframe\">\n",
       "  <thead>\n",
       "    <tr style=\"text-align: right;\">\n",
       "      <th>Writing_PassRate</th>\n",
       "      <th>Fail</th>\n",
       "      <th>Pass</th>\n",
       "      <th>PercentPass</th>\n",
       "    </tr>\n",
       "    <tr>\n",
       "      <th>gender</th>\n",
       "      <th></th>\n",
       "      <th></th>\n",
       "      <th></th>\n",
       "    </tr>\n",
       "  </thead>\n",
       "  <tbody>\n",
       "    <tr>\n",
       "      <th>female</th>\n",
       "      <td>94</td>\n",
       "      <td>424</td>\n",
       "      <td>81.85</td>\n",
       "    </tr>\n",
       "    <tr>\n",
       "      <th>male</th>\n",
       "      <td>187</td>\n",
       "      <td>295</td>\n",
       "      <td>61.20</td>\n",
       "    </tr>\n",
       "  </tbody>\n",
       "</table>\n",
       "</div>"
      ],
      "text/plain": [
       "Writing_PassRate  Fail  Pass  PercentPass\n",
       "gender                                   \n",
       "female              94   424        81.85\n",
       "male               187   295        61.20"
      ]
     },
     "execution_count": 43,
     "metadata": {},
     "output_type": "execute_result"
    }
   ],
   "source": [
    "writing_table = pd.crosstab(index = students['gender'], columns = students['Writing_PassRate'])\n",
    "writing_table['PercentPass'] = round(writing_table['Pass'] / (writing_table['Pass'] + writing_table['Fail'])*100,2)\n",
    "writing_table"
   ]
  },
  {
   "cell_type": "code",
   "execution_count": 44,
   "id": "4f10dcbd",
   "metadata": {
    "execution": {
     "iopub.execute_input": "2023-01-17T18:51:25.910371Z",
     "iopub.status.busy": "2023-01-17T18:51:25.909916Z",
     "iopub.status.idle": "2023-01-17T18:51:26.122166Z",
     "shell.execute_reply": "2023-01-17T18:51:26.120819Z"
    },
    "id": "nx-s6DOu7LH5",
    "outputId": "5e5d0924-7c60-4bf2-d994-17ef89828204",
    "papermill": {
     "duration": 0.252004,
     "end_time": "2023-01-17T18:51:26.124996",
     "exception": false,
     "start_time": "2023-01-17T18:51:25.872992",
     "status": "completed"
    },
    "tags": []
   },
   "outputs": [
    {
     "data": {
      "text/plain": [
       "<AxesSubplot:xlabel='gender', ylabel='count'>"
      ]
     },
     "execution_count": 44,
     "metadata": {},
     "output_type": "execute_result"
    },
    {
     "data": {
      "image/png": "[encoded data removed]",
      "text/plain": [
       "<Figure size 720x360 with 1 Axes>"
      ]
     },
     "metadata": {},
     "output_type": "display_data"
    }
   ],
   "source": [
    "plt.figure(figsize = (10,5))\n",
    "sns.countplot(x = 'gender', data = students, hue = 'Writing_PassRate', palette = 'viridis')"
   ]
  },
  {
   "cell_type": "markdown",
   "id": "63259e7b",
   "metadata": {
    "id": "-CzErD2khxWF",
    "papermill": {
     "duration": 0.035995,
     "end_time": "2023-01-17T18:51:26.198065",
     "exception": false,
     "start_time": "2023-01-17T18:51:26.162070",
     "status": "completed"
    },
    "tags": []
   },
   "source": [
    "From the information above, females passed the reading and writing exams more consistently than males. However, males passed the math exam more consistently than females."
   ]
  },
  {
   "cell_type": "markdown",
   "id": "db857934",
   "metadata": {
    "id": "yZroKxW7RbJF",
    "papermill": {
     "duration": 0.034841,
     "end_time": "2023-01-17T18:51:26.268231",
     "exception": false,
     "start_time": "2023-01-17T18:51:26.233390",
     "status": "completed"
    },
    "tags": []
   },
   "source": [
    "Below are the pass rate tables and countplots for each exam based on race/ethnicity:"
   ]
  },
  {
   "cell_type": "code",
   "execution_count": 45,
   "id": "f83ca94b",
   "metadata": {
    "execution": {
     "iopub.execute_input": "2023-01-17T18:51:26.343045Z",
     "iopub.status.busy": "2023-01-17T18:51:26.342527Z",
     "iopub.status.idle": "2023-01-17T18:51:26.367415Z",
     "shell.execute_reply": "2023-01-17T18:51:26.366208Z"
    },
    "id": "jRVtEd1KE64P",
    "outputId": "274bc9c8-5338-4375-ef49-f7a64eca3180",
    "papermill": {
     "duration": 0.065648,
     "end_time": "2023-01-17T18:51:26.370378",
     "exception": false,
     "start_time": "2023-01-17T18:51:26.304730",
     "status": "completed"
    },
    "tags": []
   },
   "outputs": [
    {
     "data": {
      "text/html": [
       "<div>\n",
       "<style scoped>\n",
       "    .dataframe tbody tr th:only-of-type {\n",
       "        vertical-align: middle;\n",
       "    }\n",
       "\n",
       "    .dataframe tbody tr th {\n",
       "        vertical-align: top;\n",
       "    }\n",
       "\n",
       "    .dataframe thead th {\n",
       "        text-align: right;\n",
       "    }\n",
       "</style>\n",
       "<table border=\"1\" class=\"dataframe\">\n",
       "  <thead>\n",
       "    <tr style=\"text-align: right;\">\n",
       "      <th>Math_PassRate</th>\n",
       "      <th>Fail</th>\n",
       "      <th>Pass</th>\n",
       "      <th>PercentPass</th>\n",
       "    </tr>\n",
       "    <tr>\n",
       "      <th>race/ethnicity</th>\n",
       "      <th></th>\n",
       "      <th></th>\n",
       "      <th></th>\n",
       "    </tr>\n",
       "  </thead>\n",
       "  <tbody>\n",
       "    <tr>\n",
       "      <th>group A</th>\n",
       "      <td>42</td>\n",
       "      <td>47</td>\n",
       "      <td>52.81</td>\n",
       "    </tr>\n",
       "    <tr>\n",
       "      <th>group B</th>\n",
       "      <td>71</td>\n",
       "      <td>119</td>\n",
       "      <td>62.63</td>\n",
       "    </tr>\n",
       "    <tr>\n",
       "      <th>group C</th>\n",
       "      <td>113</td>\n",
       "      <td>206</td>\n",
       "      <td>64.58</td>\n",
       "    </tr>\n",
       "    <tr>\n",
       "      <th>group D</th>\n",
       "      <td>72</td>\n",
       "      <td>190</td>\n",
       "      <td>72.52</td>\n",
       "    </tr>\n",
       "    <tr>\n",
       "      <th>group E</th>\n",
       "      <td>25</td>\n",
       "      <td>115</td>\n",
       "      <td>82.14</td>\n",
       "    </tr>\n",
       "  </tbody>\n",
       "</table>\n",
       "</div>"
      ],
      "text/plain": [
       "Math_PassRate   Fail  Pass  PercentPass\n",
       "race/ethnicity                         \n",
       "group A           42    47        52.81\n",
       "group B           71   119        62.63\n",
       "group C          113   206        64.58\n",
       "group D           72   190        72.52\n",
       "group E           25   115        82.14"
      ]
     },
     "execution_count": 45,
     "metadata": {},
     "output_type": "execute_result"
    }
   ],
   "source": [
    "math_table_re = pd.crosstab(index = students['race/ethnicity'], columns = students['Math_PassRate'])\n",
    "math_table_re['PercentPass'] = round(math_table_re['Pass'] / (math_table_re['Pass'] + math_table_re['Fail'])*100,2)\n",
    "math_table_re"
   ]
  },
  {
   "cell_type": "code",
   "execution_count": 46,
   "id": "7104168f",
   "metadata": {
    "execution": {
     "iopub.execute_input": "2023-01-17T18:51:26.444151Z",
     "iopub.status.busy": "2023-01-17T18:51:26.443722Z",
     "iopub.status.idle": "2023-01-17T18:51:26.689702Z",
     "shell.execute_reply": "2023-01-17T18:51:26.688157Z"
    },
    "id": "eTpVe_gz5sEY",
    "outputId": "2ecbd054-c465-4bda-fdfd-676991bf71b5",
    "papermill": {
     "duration": 0.286434,
     "end_time": "2023-01-17T18:51:26.692774",
     "exception": false,
     "start_time": "2023-01-17T18:51:26.406340",
     "status": "completed"
    },
    "tags": []
   },
   "outputs": [
    {
     "data": {
      "text/plain": [
       "<AxesSubplot:xlabel='race/ethnicity', ylabel='count'>"
      ]
     },
     "execution_count": 46,
     "metadata": {},
     "output_type": "execute_result"
    },
    {
     "data": {
      "image/png": "[encoded data removed]",
      "text/plain": [
       "<Figure size 720x360 with 1 Axes>"
      ]
     },
     "metadata": {},
     "output_type": "display_data"
    }
   ],
   "source": [
    "plt.figure(figsize = (10,5))\n",
    "sns.countplot(x = 'race/ethnicity', data = students, hue = 'Math_PassRate', palette = 'mako')"
   ]
  },
  {
   "cell_type": "code",
   "execution_count": 47,
   "id": "fad7921a",
   "metadata": {
    "execution": {
     "iopub.execute_input": "2023-01-17T18:51:26.770626Z",
     "iopub.status.busy": "2023-01-17T18:51:26.770180Z",
     "iopub.status.idle": "2023-01-17T18:51:26.794778Z",
     "shell.execute_reply": "2023-01-17T18:51:26.793459Z"
    },
    "id": "blfbMd-sFiH6",
    "outputId": "bb93a6ac-6bd7-43a6-c764-f40b6a2dfaa5",
    "papermill": {
     "duration": 0.065396,
     "end_time": "2023-01-17T18:51:26.797382",
     "exception": false,
     "start_time": "2023-01-17T18:51:26.731986",
     "status": "completed"
    },
    "tags": []
   },
   "outputs": [
    {
     "data": {
      "text/html": [
       "<div>\n",
       "<style scoped>\n",
       "    .dataframe tbody tr th:only-of-type {\n",
       "        vertical-align: middle;\n",
       "    }\n",
       "\n",
       "    .dataframe tbody tr th {\n",
       "        vertical-align: top;\n",
       "    }\n",
       "\n",
       "    .dataframe thead th {\n",
       "        text-align: right;\n",
       "    }\n",
       "</style>\n",
       "<table border=\"1\" class=\"dataframe\">\n",
       "  <thead>\n",
       "    <tr style=\"text-align: right;\">\n",
       "      <th>Reading_PassRate</th>\n",
       "      <th>Fail</th>\n",
       "      <th>Pass</th>\n",
       "      <th>PercentPass</th>\n",
       "    </tr>\n",
       "    <tr>\n",
       "      <th>race/ethnicity</th>\n",
       "      <th></th>\n",
       "      <th></th>\n",
       "      <th></th>\n",
       "    </tr>\n",
       "  </thead>\n",
       "  <tbody>\n",
       "    <tr>\n",
       "      <th>group A</th>\n",
       "      <td>35</td>\n",
       "      <td>54</td>\n",
       "      <td>60.67</td>\n",
       "    </tr>\n",
       "    <tr>\n",
       "      <th>group B</th>\n",
       "      <td>55</td>\n",
       "      <td>135</td>\n",
       "      <td>71.05</td>\n",
       "    </tr>\n",
       "    <tr>\n",
       "      <th>group C</th>\n",
       "      <td>75</td>\n",
       "      <td>244</td>\n",
       "      <td>76.49</td>\n",
       "    </tr>\n",
       "    <tr>\n",
       "      <th>group D</th>\n",
       "      <td>62</td>\n",
       "      <td>200</td>\n",
       "      <td>76.34</td>\n",
       "    </tr>\n",
       "    <tr>\n",
       "      <th>group E</th>\n",
       "      <td>27</td>\n",
       "      <td>113</td>\n",
       "      <td>80.71</td>\n",
       "    </tr>\n",
       "  </tbody>\n",
       "</table>\n",
       "</div>"
      ],
      "text/plain": [
       "Reading_PassRate  Fail  Pass  PercentPass\n",
       "race/ethnicity                           \n",
       "group A             35    54        60.67\n",
       "group B             55   135        71.05\n",
       "group C             75   244        76.49\n",
       "group D             62   200        76.34\n",
       "group E             27   113        80.71"
      ]
     },
     "execution_count": 47,
     "metadata": {},
     "output_type": "execute_result"
    }
   ],
   "source": [
    "read_table_re = pd.crosstab(index = students['race/ethnicity'], columns = students['Reading_PassRate'])\n",
    "read_table_re['PercentPass'] = round(read_table_re['Pass'] / (read_table_re['Pass'] + read_table_re['Fail'])*100,2)\n",
    "read_table_re"
   ]
  },
  {
   "cell_type": "code",
   "execution_count": 48,
   "id": "97a3fc11",
   "metadata": {
    "execution": {
     "iopub.execute_input": "2023-01-17T18:51:26.873175Z",
     "iopub.status.busy": "2023-01-17T18:51:26.871992Z",
     "iopub.status.idle": "2023-01-17T18:51:27.114725Z",
     "shell.execute_reply": "2023-01-17T18:51:27.113834Z"
    },
    "id": "xoZghwas7TOL",
    "outputId": "3c143b0e-4b01-424d-8138-8d80c93bd974",
    "papermill": {
     "duration": 0.283293,
     "end_time": "2023-01-17T18:51:27.117363",
     "exception": false,
     "start_time": "2023-01-17T18:51:26.834070",
     "status": "completed"
    },
    "tags": []
   },
   "outputs": [
    {
     "data": {
      "text/plain": [
       "<AxesSubplot:xlabel='race/ethnicity', ylabel='count'>"
      ]
     },
     "execution_count": 48,
     "metadata": {},
     "output_type": "execute_result"
    },
    {
     "data": {
      "image/png": "[encoded data removed]",
      "text/plain": [
       "<Figure size 720x360 with 1 Axes>"
      ]
     },
     "metadata": {},
     "output_type": "display_data"
    }
   ],
   "source": [
    "plt.figure(figsize = (10,5))\n",
    "sns.countplot(x = 'race/ethnicity', data = students, hue = 'Reading_PassRate', palette = 'mako')"
   ]
  },
  {
   "cell_type": "code",
   "execution_count": 49,
   "id": "7661ca4d",
   "metadata": {
    "execution": {
     "iopub.execute_input": "2023-01-17T18:51:27.192689Z",
     "iopub.status.busy": "2023-01-17T18:51:27.192034Z",
     "iopub.status.idle": "2023-01-17T18:51:27.215593Z",
     "shell.execute_reply": "2023-01-17T18:51:27.214376Z"
    },
    "id": "9Q_XN0vfFwqH",
    "outputId": "7066f6f0-397a-44a3-d185-6c2705c42356",
    "papermill": {
     "duration": 0.06424,
     "end_time": "2023-01-17T18:51:27.218142",
     "exception": false,
     "start_time": "2023-01-17T18:51:27.153902",
     "status": "completed"
    },
    "tags": []
   },
   "outputs": [
    {
     "data": {
      "text/html": [
       "<div>\n",
       "<style scoped>\n",
       "    .dataframe tbody tr th:only-of-type {\n",
       "        vertical-align: middle;\n",
       "    }\n",
       "\n",
       "    .dataframe tbody tr th {\n",
       "        vertical-align: top;\n",
       "    }\n",
       "\n",
       "    .dataframe thead th {\n",
       "        text-align: right;\n",
       "    }\n",
       "</style>\n",
       "<table border=\"1\" class=\"dataframe\">\n",
       "  <thead>\n",
       "    <tr style=\"text-align: right;\">\n",
       "      <th>Writing_PassRate</th>\n",
       "      <th>Fail</th>\n",
       "      <th>Pass</th>\n",
       "      <th>PercentPass</th>\n",
       "    </tr>\n",
       "    <tr>\n",
       "      <th>race/ethnicity</th>\n",
       "      <th></th>\n",
       "      <th></th>\n",
       "      <th></th>\n",
       "    </tr>\n",
       "  </thead>\n",
       "  <tbody>\n",
       "    <tr>\n",
       "      <th>group A</th>\n",
       "      <td>37</td>\n",
       "      <td>52</td>\n",
       "      <td>58.43</td>\n",
       "    </tr>\n",
       "    <tr>\n",
       "      <th>group B</th>\n",
       "      <td>61</td>\n",
       "      <td>129</td>\n",
       "      <td>67.89</td>\n",
       "    </tr>\n",
       "    <tr>\n",
       "      <th>group C</th>\n",
       "      <td>94</td>\n",
       "      <td>225</td>\n",
       "      <td>70.53</td>\n",
       "    </tr>\n",
       "    <tr>\n",
       "      <th>group D</th>\n",
       "      <td>59</td>\n",
       "      <td>203</td>\n",
       "      <td>77.48</td>\n",
       "    </tr>\n",
       "    <tr>\n",
       "      <th>group E</th>\n",
       "      <td>30</td>\n",
       "      <td>110</td>\n",
       "      <td>78.57</td>\n",
       "    </tr>\n",
       "  </tbody>\n",
       "</table>\n",
       "</div>"
      ],
      "text/plain": [
       "Writing_PassRate  Fail  Pass  PercentPass\n",
       "race/ethnicity                           \n",
       "group A             37    52        58.43\n",
       "group B             61   129        67.89\n",
       "group C             94   225        70.53\n",
       "group D             59   203        77.48\n",
       "group E             30   110        78.57"
      ]
     },
     "execution_count": 49,
     "metadata": {},
     "output_type": "execute_result"
    }
   ],
   "source": [
    "write_table_re = pd.crosstab(index = students['race/ethnicity'], columns = students['Writing_PassRate'])\n",
    "write_table_re['PercentPass'] = round(write_table_re['Pass'] / (write_table_re['Pass'] + write_table_re['Fail'])*100,2)\n",
    "write_table_re"
   ]
  },
  {
   "cell_type": "code",
   "execution_count": 50,
   "id": "f5e1e8a4",
   "metadata": {
    "execution": {
     "iopub.execute_input": "2023-01-17T18:51:27.295221Z",
     "iopub.status.busy": "2023-01-17T18:51:27.294162Z",
     "iopub.status.idle": "2023-01-17T18:51:27.520452Z",
     "shell.execute_reply": "2023-01-17T18:51:27.519015Z"
    },
    "id": "J9Ols2tA7Vuh",
    "outputId": "518c0cd3-3719-4171-d485-75c32524f975",
    "papermill": {
     "duration": 0.268686,
     "end_time": "2023-01-17T18:51:27.523470",
     "exception": false,
     "start_time": "2023-01-17T18:51:27.254784",
     "status": "completed"
    },
    "tags": []
   },
   "outputs": [
    {
     "data": {
      "text/plain": [
       "<AxesSubplot:xlabel='race/ethnicity', ylabel='count'>"
      ]
     },
     "execution_count": 50,
     "metadata": {},
     "output_type": "execute_result"
    },
    {
     "data": {
      "image/png": "[encoded data removed]",
      "text/plain": [
       "<Figure size 720x360 with 1 Axes>"
      ]
     },
     "metadata": {},
     "output_type": "display_data"
    }
   ],
   "source": [
    "plt.figure(figsize = (10,5))\n",
    "sns.countplot(x = 'race/ethnicity', data = students, hue = 'Writing_PassRate', palette = 'mako')"
   ]
  },
  {
   "cell_type": "markdown",
   "id": "0edea826",
   "metadata": {
    "id": "TQ84czQqiVFq",
    "papermill": {
     "duration": 0.038703,
     "end_time": "2023-01-17T18:51:27.600015",
     "exception": false,
     "start_time": "2023-01-17T18:51:27.561312",
     "status": "completed"
    },
    "tags": []
   },
   "source": [
    "From the information above, group E had the highest pass percentage for each exam, while group A had the lowest pass percentage for each exam."
   ]
  },
  {
   "cell_type": "markdown",
   "id": "c69b303d",
   "metadata": {
    "id": "gRaWL0vCRjBh",
    "papermill": {
     "duration": 0.038129,
     "end_time": "2023-01-17T18:51:27.677206",
     "exception": false,
     "start_time": "2023-01-17T18:51:27.639077",
     "status": "completed"
    },
    "tags": []
   },
   "source": [
    "Below are the pass rate tables and countplots for each exam based on parental level of education:"
   ]
  },
  {
   "cell_type": "code",
   "execution_count": 51,
   "id": "9cc51af9",
   "metadata": {
    "execution": {
     "iopub.execute_input": "2023-01-17T18:51:27.755277Z",
     "iopub.status.busy": "2023-01-17T18:51:27.754815Z",
     "iopub.status.idle": "2023-01-17T18:51:27.781522Z",
     "shell.execute_reply": "2023-01-17T18:51:27.780630Z"
    },
    "id": "6TKENlczF78J",
    "outputId": "70c9b940-d8dc-44da-8828-351bbdb29429",
    "papermill": {
     "duration": 0.069073,
     "end_time": "2023-01-17T18:51:27.783871",
     "exception": false,
     "start_time": "2023-01-17T18:51:27.714798",
     "status": "completed"
    },
    "tags": []
   },
   "outputs": [
    {
     "data": {
      "text/html": [
       "<div>\n",
       "<style scoped>\n",
       "    .dataframe tbody tr th:only-of-type {\n",
       "        vertical-align: middle;\n",
       "    }\n",
       "\n",
       "    .dataframe tbody tr th {\n",
       "        vertical-align: top;\n",
       "    }\n",
       "\n",
       "    .dataframe thead th {\n",
       "        text-align: right;\n",
       "    }\n",
       "</style>\n",
       "<table border=\"1\" class=\"dataframe\">\n",
       "  <thead>\n",
       "    <tr style=\"text-align: right;\">\n",
       "      <th>Math_PassRate</th>\n",
       "      <th>Fail</th>\n",
       "      <th>Pass</th>\n",
       "      <th>PercentPass</th>\n",
       "    </tr>\n",
       "    <tr>\n",
       "      <th>parental level of education</th>\n",
       "      <th></th>\n",
       "      <th></th>\n",
       "      <th></th>\n",
       "    </tr>\n",
       "  </thead>\n",
       "  <tbody>\n",
       "    <tr>\n",
       "      <th>associate's degree</th>\n",
       "      <td>72</td>\n",
       "      <td>150</td>\n",
       "      <td>67.57</td>\n",
       "    </tr>\n",
       "    <tr>\n",
       "      <th>bachelor's degree</th>\n",
       "      <td>27</td>\n",
       "      <td>91</td>\n",
       "      <td>77.12</td>\n",
       "    </tr>\n",
       "    <tr>\n",
       "      <th>high school</th>\n",
       "      <td>79</td>\n",
       "      <td>117</td>\n",
       "      <td>59.69</td>\n",
       "    </tr>\n",
       "    <tr>\n",
       "      <th>master's degree</th>\n",
       "      <td>17</td>\n",
       "      <td>42</td>\n",
       "      <td>71.19</td>\n",
       "    </tr>\n",
       "    <tr>\n",
       "      <th>some college</th>\n",
       "      <td>64</td>\n",
       "      <td>162</td>\n",
       "      <td>71.68</td>\n",
       "    </tr>\n",
       "    <tr>\n",
       "      <th>some high school</th>\n",
       "      <td>64</td>\n",
       "      <td>115</td>\n",
       "      <td>64.25</td>\n",
       "    </tr>\n",
       "  </tbody>\n",
       "</table>\n",
       "</div>"
      ],
      "text/plain": [
       "Math_PassRate                Fail  Pass  PercentPass\n",
       "parental level of education                         \n",
       "associate's degree             72   150        67.57\n",
       "bachelor's degree              27    91        77.12\n",
       "high school                    79   117        59.69\n",
       "master's degree                17    42        71.19\n",
       "some college                   64   162        71.68\n",
       "some high school               64   115        64.25"
      ]
     },
     "execution_count": 51,
     "metadata": {},
     "output_type": "execute_result"
    }
   ],
   "source": [
    "math_table_parent = pd.crosstab(index = students['parental level of education'], columns = students['Math_PassRate'])\n",
    "math_table_parent['PercentPass'] = round(math_table_parent['Pass'] / (math_table_parent['Pass'] + math_table_parent['Fail'])*100,2)\n",
    "math_table_parent"
   ]
  },
  {
   "cell_type": "code",
   "execution_count": 52,
   "id": "50bff74c",
   "metadata": {
    "execution": {
     "iopub.execute_input": "2023-01-17T18:51:27.861661Z",
     "iopub.status.busy": "2023-01-17T18:51:27.860877Z",
     "iopub.status.idle": "2023-01-17T18:51:28.129944Z",
     "shell.execute_reply": "2023-01-17T18:51:28.128658Z"
    },
    "id": "aT9RjFTE6bBU",
    "outputId": "39c0bfe8-9b4b-4cbe-ab59-7ae1e736083f",
    "papermill": {
     "duration": 0.310982,
     "end_time": "2023-01-17T18:51:28.132557",
     "exception": false,
     "start_time": "2023-01-17T18:51:27.821575",
     "status": "completed"
    },
    "tags": []
   },
   "outputs": [
    {
     "data": {
      "text/plain": [
       "<AxesSubplot:xlabel='parental level of education', ylabel='count'>"
      ]
     },
     "execution_count": 52,
     "metadata": {},
     "output_type": "execute_result"
    },
    {
     "data": {
      "image/png": "[encoded data removed]",
      "text/plain": [
       "<Figure size 720x360 with 1 Axes>"
      ]
     },
     "metadata": {},
     "output_type": "display_data"
    }
   ],
   "source": [
    "plt.figure(figsize = (10,5))\n",
    "sns.countplot(x = 'parental level of education', data = students, hue = 'Math_PassRate', palette = 'rocket')"
   ]
  },
  {
   "cell_type": "code",
   "execution_count": 53,
   "id": "5fd250db",
   "metadata": {
    "execution": {
     "iopub.execute_input": "2023-01-17T18:51:28.210696Z",
     "iopub.status.busy": "2023-01-17T18:51:28.210262Z",
     "iopub.status.idle": "2023-01-17T18:51:28.234883Z",
     "shell.execute_reply": "2023-01-17T18:51:28.233842Z"
    },
    "id": "2CjdOYEBGMpw",
    "outputId": "8935b54a-dca6-4bc8-9c8a-4af75c40b786",
    "papermill": {
     "duration": 0.066688,
     "end_time": "2023-01-17T18:51:28.237200",
     "exception": false,
     "start_time": "2023-01-17T18:51:28.170512",
     "status": "completed"
    },
    "tags": []
   },
   "outputs": [
    {
     "data": {
      "text/html": [
       "<div>\n",
       "<style scoped>\n",
       "    .dataframe tbody tr th:only-of-type {\n",
       "        vertical-align: middle;\n",
       "    }\n",
       "\n",
       "    .dataframe tbody tr th {\n",
       "        vertical-align: top;\n",
       "    }\n",
       "\n",
       "    .dataframe thead th {\n",
       "        text-align: right;\n",
       "    }\n",
       "</style>\n",
       "<table border=\"1\" class=\"dataframe\">\n",
       "  <thead>\n",
       "    <tr style=\"text-align: right;\">\n",
       "      <th>Reading_PassRate</th>\n",
       "      <th>Fail</th>\n",
       "      <th>Pass</th>\n",
       "      <th>PercentPass</th>\n",
       "    </tr>\n",
       "    <tr>\n",
       "      <th>parental level of education</th>\n",
       "      <th></th>\n",
       "      <th></th>\n",
       "      <th></th>\n",
       "    </tr>\n",
       "  </thead>\n",
       "  <tbody>\n",
       "    <tr>\n",
       "      <th>associate's degree</th>\n",
       "      <td>51</td>\n",
       "      <td>171</td>\n",
       "      <td>77.03</td>\n",
       "    </tr>\n",
       "    <tr>\n",
       "      <th>bachelor's degree</th>\n",
       "      <td>20</td>\n",
       "      <td>98</td>\n",
       "      <td>83.05</td>\n",
       "    </tr>\n",
       "    <tr>\n",
       "      <th>high school</th>\n",
       "      <td>68</td>\n",
       "      <td>128</td>\n",
       "      <td>65.31</td>\n",
       "    </tr>\n",
       "    <tr>\n",
       "      <th>master's degree</th>\n",
       "      <td>9</td>\n",
       "      <td>50</td>\n",
       "      <td>84.75</td>\n",
       "    </tr>\n",
       "    <tr>\n",
       "      <th>some college</th>\n",
       "      <td>51</td>\n",
       "      <td>175</td>\n",
       "      <td>77.43</td>\n",
       "    </tr>\n",
       "    <tr>\n",
       "      <th>some high school</th>\n",
       "      <td>55</td>\n",
       "      <td>124</td>\n",
       "      <td>69.27</td>\n",
       "    </tr>\n",
       "  </tbody>\n",
       "</table>\n",
       "</div>"
      ],
      "text/plain": [
       "Reading_PassRate             Fail  Pass  PercentPass\n",
       "parental level of education                         \n",
       "associate's degree             51   171        77.03\n",
       "bachelor's degree              20    98        83.05\n",
       "high school                    68   128        65.31\n",
       "master's degree                 9    50        84.75\n",
       "some college                   51   175        77.43\n",
       "some high school               55   124        69.27"
      ]
     },
     "execution_count": 53,
     "metadata": {},
     "output_type": "execute_result"
    }
   ],
   "source": [
    "read_table_parent = pd.crosstab(index = students['parental level of education'], columns = students['Reading_PassRate'])\n",
    "read_table_parent['PercentPass'] = round(read_table_parent['Pass'] / (read_table_parent['Pass'] + read_table_parent['Fail'])*100,2)\n",
    "read_table_parent"
   ]
  },
  {
   "cell_type": "code",
   "execution_count": 54,
   "id": "1bab414a",
   "metadata": {
    "execution": {
     "iopub.execute_input": "2023-01-17T18:51:28.316655Z",
     "iopub.status.busy": "2023-01-17T18:51:28.316239Z",
     "iopub.status.idle": "2023-01-17T18:51:28.584848Z",
     "shell.execute_reply": "2023-01-17T18:51:28.583726Z"
    },
    "id": "KfhCA1VX7dEG",
    "outputId": "e4e58dd0-d29a-4830-c12a-f9c1fbd3d343",
    "papermill": {
     "duration": 0.311536,
     "end_time": "2023-01-17T18:51:28.587645",
     "exception": false,
     "start_time": "2023-01-17T18:51:28.276109",
     "status": "completed"
    },
    "tags": []
   },
   "outputs": [
    {
     "data": {
      "text/plain": [
       "<AxesSubplot:xlabel='parental level of education', ylabel='count'>"
      ]
     },
     "execution_count": 54,
     "metadata": {},
     "output_type": "execute_result"
    },
    {
     "data": {
      "image/png": "[encoded data removed]",
      "text/plain": [
       "<Figure size 720x360 with 1 Axes>"
      ]
     },
     "metadata": {},
     "output_type": "display_data"
    }
   ],
   "source": [
    "plt.figure(figsize = (10,5))\n",
    "sns.countplot(x = 'parental level of education', data = students, hue = 'Reading_PassRate', palette = 'rocket')"
   ]
  },
  {
   "cell_type": "code",
   "execution_count": 55,
   "id": "102236cb",
   "metadata": {
    "execution": {
     "iopub.execute_input": "2023-01-17T18:51:28.666385Z",
     "iopub.status.busy": "2023-01-17T18:51:28.665933Z",
     "iopub.status.idle": "2023-01-17T18:51:28.691350Z",
     "shell.execute_reply": "2023-01-17T18:51:28.690134Z"
    },
    "id": "v9cG-FBZGWvS",
    "outputId": "2dc0022b-df3d-44cd-8008-b986de9960f1",
    "papermill": {
     "duration": 0.067494,
     "end_time": "2023-01-17T18:51:28.693804",
     "exception": false,
     "start_time": "2023-01-17T18:51:28.626310",
     "status": "completed"
    },
    "tags": []
   },
   "outputs": [
    {
     "data": {
      "text/html": [
       "<div>\n",
       "<style scoped>\n",
       "    .dataframe tbody tr th:only-of-type {\n",
       "        vertical-align: middle;\n",
       "    }\n",
       "\n",
       "    .dataframe tbody tr th {\n",
       "        vertical-align: top;\n",
       "    }\n",
       "\n",
       "    .dataframe thead th {\n",
       "        text-align: right;\n",
       "    }\n",
       "</style>\n",
       "<table border=\"1\" class=\"dataframe\">\n",
       "  <thead>\n",
       "    <tr style=\"text-align: right;\">\n",
       "      <th>Writing_PassRate</th>\n",
       "      <th>Fail</th>\n",
       "      <th>Pass</th>\n",
       "      <th>PercentPass</th>\n",
       "    </tr>\n",
       "    <tr>\n",
       "      <th>parental level of education</th>\n",
       "      <th></th>\n",
       "      <th></th>\n",
       "      <th></th>\n",
       "    </tr>\n",
       "  </thead>\n",
       "  <tbody>\n",
       "    <tr>\n",
       "      <th>associate's degree</th>\n",
       "      <td>58</td>\n",
       "      <td>164</td>\n",
       "      <td>73.87</td>\n",
       "    </tr>\n",
       "    <tr>\n",
       "      <th>bachelor's degree</th>\n",
       "      <td>20</td>\n",
       "      <td>98</td>\n",
       "      <td>83.05</td>\n",
       "    </tr>\n",
       "    <tr>\n",
       "      <th>high school</th>\n",
       "      <td>77</td>\n",
       "      <td>119</td>\n",
       "      <td>60.71</td>\n",
       "    </tr>\n",
       "    <tr>\n",
       "      <th>master's degree</th>\n",
       "      <td>8</td>\n",
       "      <td>51</td>\n",
       "      <td>86.44</td>\n",
       "    </tr>\n",
       "    <tr>\n",
       "      <th>some college</th>\n",
       "      <td>55</td>\n",
       "      <td>171</td>\n",
       "      <td>75.66</td>\n",
       "    </tr>\n",
       "    <tr>\n",
       "      <th>some high school</th>\n",
       "      <td>63</td>\n",
       "      <td>116</td>\n",
       "      <td>64.80</td>\n",
       "    </tr>\n",
       "  </tbody>\n",
       "</table>\n",
       "</div>"
      ],
      "text/plain": [
       "Writing_PassRate             Fail  Pass  PercentPass\n",
       "parental level of education                         \n",
       "associate's degree             58   164        73.87\n",
       "bachelor's degree              20    98        83.05\n",
       "high school                    77   119        60.71\n",
       "master's degree                 8    51        86.44\n",
       "some college                   55   171        75.66\n",
       "some high school               63   116        64.80"
      ]
     },
     "execution_count": 55,
     "metadata": {},
     "output_type": "execute_result"
    }
   ],
   "source": [
    "write_table_parent = pd.crosstab(index = students['parental level of education'], columns = students['Writing_PassRate'])\n",
    "write_table_parent['PercentPass'] = round(write_table_parent['Pass'] / (write_table_parent['Pass'] + write_table_parent['Fail'])*100,2)\n",
    "write_table_parent"
   ]
  },
  {
   "cell_type": "code",
   "execution_count": 56,
   "id": "103c0e9a",
   "metadata": {
    "execution": {
     "iopub.execute_input": "2023-01-17T18:51:28.772665Z",
     "iopub.status.busy": "2023-01-17T18:51:28.771631Z",
     "iopub.status.idle": "2023-01-17T18:51:29.216132Z",
     "shell.execute_reply": "2023-01-17T18:51:29.214942Z"
    },
    "id": "MLG_Uoz96lgt",
    "outputId": "42940827-da41-4024-ca0f-5be9cdc2ce9d",
    "papermill": {
     "duration": 0.486449,
     "end_time": "2023-01-17T18:51:29.218753",
     "exception": false,
     "start_time": "2023-01-17T18:51:28.732304",
     "status": "completed"
    },
    "tags": []
   },
   "outputs": [
    {
     "data": {
      "text/plain": [
       "<AxesSubplot:xlabel='parental level of education', ylabel='count'>"
      ]
     },
     "execution_count": 56,
     "metadata": {},
     "output_type": "execute_result"
    },
    {
     "data": {
      "image/png": "[encoded data removed]",
      "text/plain": [
       "<Figure size 720x360 with 1 Axes>"
      ]
     },
     "metadata": {},
     "output_type": "display_data"
    }
   ],
   "source": [
    "plt.figure(figsize = (10,5))\n",
    "sns.countplot(x = 'parental level of education', data = students, hue = 'Writing_PassRate', palette = 'rocket')"
   ]
  },
  {
   "cell_type": "markdown",
   "id": "49c2bba0",
   "metadata": {
    "id": "z0-mG1sTizCn",
    "papermill": {
     "duration": 0.038511,
     "end_time": "2023-01-17T18:51:29.297406",
     "exception": false,
     "start_time": "2023-01-17T18:51:29.258895",
     "status": "completed"
    },
    "tags": []
   },
   "source": [
    "From the information above, students whose parents received a master's degree had the highest pass percentage for the reading and writing exams, while students whose parents received a bachelor's degree had the highest pass percentage for the math exam. Students whose parent's received a high school degree only had the lowest pass percentage for each exam.\n"
   ]
  },
  {
   "cell_type": "markdown",
   "id": "b087ed1f",
   "metadata": {
    "id": "bjvq8aSdTINP",
    "papermill": {
     "duration": 0.039309,
     "end_time": "2023-01-17T18:51:29.375854",
     "exception": false,
     "start_time": "2023-01-17T18:51:29.336545",
     "status": "completed"
    },
    "tags": []
   },
   "source": [
    "Below are the pass rate tables and countplots for each exam based on test preparation course completion:"
   ]
  },
  {
   "cell_type": "code",
   "execution_count": 57,
   "id": "28a2f03c",
   "metadata": {
    "execution": {
     "iopub.execute_input": "2023-01-17T18:51:29.455678Z",
     "iopub.status.busy": "2023-01-17T18:51:29.455289Z",
     "iopub.status.idle": "2023-01-17T18:51:29.478984Z",
     "shell.execute_reply": "2023-01-17T18:51:29.477726Z"
    },
    "id": "FCjTacM57gID",
    "outputId": "83eb876c-5d84-44cf-e1eb-50849b7e3d9e",
    "papermill": {
     "duration": 0.06734,
     "end_time": "2023-01-17T18:51:29.482237",
     "exception": false,
     "start_time": "2023-01-17T18:51:29.414897",
     "status": "completed"
    },
    "tags": []
   },
   "outputs": [
    {
     "data": {
      "text/html": [
       "<div>\n",
       "<style scoped>\n",
       "    .dataframe tbody tr th:only-of-type {\n",
       "        vertical-align: middle;\n",
       "    }\n",
       "\n",
       "    .dataframe tbody tr th {\n",
       "        vertical-align: top;\n",
       "    }\n",
       "\n",
       "    .dataframe thead th {\n",
       "        text-align: right;\n",
       "    }\n",
       "</style>\n",
       "<table border=\"1\" class=\"dataframe\">\n",
       "  <thead>\n",
       "    <tr style=\"text-align: right;\">\n",
       "      <th>Math_PassRate</th>\n",
       "      <th>Fail</th>\n",
       "      <th>Pass</th>\n",
       "      <th>PercentPass</th>\n",
       "    </tr>\n",
       "    <tr>\n",
       "      <th>test preparation course</th>\n",
       "      <th></th>\n",
       "      <th></th>\n",
       "      <th></th>\n",
       "    </tr>\n",
       "  </thead>\n",
       "  <tbody>\n",
       "    <tr>\n",
       "      <th>completed</th>\n",
       "      <td>87</td>\n",
       "      <td>271</td>\n",
       "      <td>75.70</td>\n",
       "    </tr>\n",
       "    <tr>\n",
       "      <th>none</th>\n",
       "      <td>236</td>\n",
       "      <td>406</td>\n",
       "      <td>63.24</td>\n",
       "    </tr>\n",
       "  </tbody>\n",
       "</table>\n",
       "</div>"
      ],
      "text/plain": [
       "Math_PassRate            Fail  Pass  PercentPass\n",
       "test preparation course                         \n",
       "completed                  87   271        75.70\n",
       "none                      236   406        63.24"
      ]
     },
     "execution_count": 57,
     "metadata": {},
     "output_type": "execute_result"
    }
   ],
   "source": [
    "math_table_course = pd.crosstab(index = students['test preparation course'], columns = students['Math_PassRate'])\n",
    "math_table_course['PercentPass'] = round(math_table_course['Pass'] / (math_table_course['Pass'] + math_table_course['Fail'])*100,2)\n",
    "math_table_course"
   ]
  },
  {
   "cell_type": "code",
   "execution_count": 58,
   "id": "bbc3d9d1",
   "metadata": {
    "execution": {
     "iopub.execute_input": "2023-01-17T18:51:29.562528Z",
     "iopub.status.busy": "2023-01-17T18:51:29.562098Z",
     "iopub.status.idle": "2023-01-17T18:51:29.767592Z",
     "shell.execute_reply": "2023-01-17T18:51:29.766047Z"
    },
    "id": "0fccwg5VSODn",
    "outputId": "33cb1209-935d-4598-cd08-910e299d0252",
    "papermill": {
     "duration": 0.249463,
     "end_time": "2023-01-17T18:51:29.770780",
     "exception": false,
     "start_time": "2023-01-17T18:51:29.521317",
     "status": "completed"
    },
    "tags": []
   },
   "outputs": [
    {
     "data": {
      "text/plain": [
       "<AxesSubplot:xlabel='test preparation course', ylabel='count'>"
      ]
     },
     "execution_count": 58,
     "metadata": {},
     "output_type": "execute_result"
    },
    {
     "data": {
      "image/png": "[encoded data removed]",
      "text/plain": [
       "<Figure size 432x288 with 1 Axes>"
      ]
     },
     "metadata": {},
     "output_type": "display_data"
    }
   ],
   "source": [
    "sns.countplot(x = 'test preparation course', data = students, hue = 'Math_PassRate', palette = 'YlOrBr')"
   ]
  },
  {
   "cell_type": "code",
   "execution_count": 59,
   "id": "2afcc384",
   "metadata": {
    "execution": {
     "iopub.execute_input": "2023-01-17T18:51:29.854571Z",
     "iopub.status.busy": "2023-01-17T18:51:29.853868Z",
     "iopub.status.idle": "2023-01-17T18:51:29.882726Z",
     "shell.execute_reply": "2023-01-17T18:51:29.881191Z"
    },
    "id": "Sdt7e75mSax-",
    "outputId": "3636a072-0ad9-44e3-fb1a-03ac94e968c9",
    "papermill": {
     "duration": 0.0747,
     "end_time": "2023-01-17T18:51:29.885550",
     "exception": false,
     "start_time": "2023-01-17T18:51:29.810850",
     "status": "completed"
    },
    "tags": []
   },
   "outputs": [
    {
     "data": {
      "text/html": [
       "<div>\n",
       "<style scoped>\n",
       "    .dataframe tbody tr th:only-of-type {\n",
       "        vertical-align: middle;\n",
       "    }\n",
       "\n",
       "    .dataframe tbody tr th {\n",
       "        vertical-align: top;\n",
       "    }\n",
       "\n",
       "    .dataframe thead th {\n",
       "        text-align: right;\n",
       "    }\n",
       "</style>\n",
       "<table border=\"1\" class=\"dataframe\">\n",
       "  <thead>\n",
       "    <tr style=\"text-align: right;\">\n",
       "      <th>Reading_PassRate</th>\n",
       "      <th>Fail</th>\n",
       "      <th>Pass</th>\n",
       "      <th>PercentPass</th>\n",
       "    </tr>\n",
       "    <tr>\n",
       "      <th>test preparation course</th>\n",
       "      <th></th>\n",
       "      <th></th>\n",
       "      <th></th>\n",
       "    </tr>\n",
       "  </thead>\n",
       "  <tbody>\n",
       "    <tr>\n",
       "      <th>completed</th>\n",
       "      <td>56</td>\n",
       "      <td>302</td>\n",
       "      <td>84.36</td>\n",
       "    </tr>\n",
       "    <tr>\n",
       "      <th>none</th>\n",
       "      <td>198</td>\n",
       "      <td>444</td>\n",
       "      <td>69.16</td>\n",
       "    </tr>\n",
       "  </tbody>\n",
       "</table>\n",
       "</div>"
      ],
      "text/plain": [
       "Reading_PassRate         Fail  Pass  PercentPass\n",
       "test preparation course                         \n",
       "completed                  56   302        84.36\n",
       "none                      198   444        69.16"
      ]
     },
     "execution_count": 59,
     "metadata": {},
     "output_type": "execute_result"
    }
   ],
   "source": [
    "read_table_course = pd.crosstab(index = students['test preparation course'], columns = students['Reading_PassRate'])\n",
    "read_table_course['PercentPass'] = round(read_table_course['Pass'] / (read_table_course['Pass'] + read_table_course['Fail'])*100,2)\n",
    "read_table_course"
   ]
  },
  {
   "cell_type": "code",
   "execution_count": 60,
   "id": "80549139",
   "metadata": {
    "execution": {
     "iopub.execute_input": "2023-01-17T18:51:29.970500Z",
     "iopub.status.busy": "2023-01-17T18:51:29.970103Z",
     "iopub.status.idle": "2023-01-17T18:51:30.195113Z",
     "shell.execute_reply": "2023-01-17T18:51:30.193546Z"
    },
    "id": "pJHRRkvVSrP4",
    "outputId": "89f58ffe-a217-4844-fdce-eb13ade6c2d1",
    "papermill": {
     "duration": 0.271433,
     "end_time": "2023-01-17T18:51:30.198797",
     "exception": false,
     "start_time": "2023-01-17T18:51:29.927364",
     "status": "completed"
    },
    "tags": []
   },
   "outputs": [
    {
     "data": {
      "text/plain": [
       "<AxesSubplot:xlabel='test preparation course', ylabel='count'>"
      ]
     },
     "execution_count": 60,
     "metadata": {},
     "output_type": "execute_result"
    },
    {
     "data": {
      "image/png": "[encoded data removed]",
      "text/plain": [
       "<Figure size 720x360 with 1 Axes>"
      ]
     },
     "metadata": {},
     "output_type": "display_data"
    }
   ],
   "source": [
    "plt.figure(figsize = (10,5))\n",
    "sns.countplot(x = 'test preparation course', data = students, hue = 'Math_PassRate', palette = 'YlOrBr')"
   ]
  },
  {
   "cell_type": "code",
   "execution_count": 61,
   "id": "f580c76e",
   "metadata": {
    "execution": {
     "iopub.execute_input": "2023-01-17T18:51:30.288869Z",
     "iopub.status.busy": "2023-01-17T18:51:30.288455Z",
     "iopub.status.idle": "2023-01-17T18:51:30.316806Z",
     "shell.execute_reply": "2023-01-17T18:51:30.315359Z"
    },
    "id": "hULTlBpOSwQW",
    "outputId": "b178786d-9766-4adf-e108-0fd5c87043f0",
    "papermill": {
     "duration": 0.075095,
     "end_time": "2023-01-17T18:51:30.320080",
     "exception": false,
     "start_time": "2023-01-17T18:51:30.244985",
     "status": "completed"
    },
    "tags": []
   },
   "outputs": [
    {
     "data": {
      "text/html": [
       "<div>\n",
       "<style scoped>\n",
       "    .dataframe tbody tr th:only-of-type {\n",
       "        vertical-align: middle;\n",
       "    }\n",
       "\n",
       "    .dataframe tbody tr th {\n",
       "        vertical-align: top;\n",
       "    }\n",
       "\n",
       "    .dataframe thead th {\n",
       "        text-align: right;\n",
       "    }\n",
       "</style>\n",
       "<table border=\"1\" class=\"dataframe\">\n",
       "  <thead>\n",
       "    <tr style=\"text-align: right;\">\n",
       "      <th>Writing_PassRate</th>\n",
       "      <th>Fail</th>\n",
       "      <th>Pass</th>\n",
       "      <th>PercentPass</th>\n",
       "    </tr>\n",
       "    <tr>\n",
       "      <th>test preparation course</th>\n",
       "      <th></th>\n",
       "      <th></th>\n",
       "      <th></th>\n",
       "    </tr>\n",
       "  </thead>\n",
       "  <tbody>\n",
       "    <tr>\n",
       "      <th>completed</th>\n",
       "      <td>50</td>\n",
       "      <td>308</td>\n",
       "      <td>86.03</td>\n",
       "    </tr>\n",
       "    <tr>\n",
       "      <th>none</th>\n",
       "      <td>231</td>\n",
       "      <td>411</td>\n",
       "      <td>64.02</td>\n",
       "    </tr>\n",
       "  </tbody>\n",
       "</table>\n",
       "</div>"
      ],
      "text/plain": [
       "Writing_PassRate         Fail  Pass  PercentPass\n",
       "test preparation course                         \n",
       "completed                  50   308        86.03\n",
       "none                      231   411        64.02"
      ]
     },
     "execution_count": 61,
     "metadata": {},
     "output_type": "execute_result"
    }
   ],
   "source": [
    "write_table_course = pd.crosstab(index = students['test preparation course'], columns = students['Writing_PassRate'])\n",
    "write_table_course['PercentPass'] = round(write_table_course['Pass'] / (write_table_course['Pass'] + write_table_course['Fail'])*100,2)\n",
    "write_table_course"
   ]
  },
  {
   "cell_type": "code",
   "execution_count": 62,
   "id": "5906eb85",
   "metadata": {
    "execution": {
     "iopub.execute_input": "2023-01-17T18:51:30.406064Z",
     "iopub.status.busy": "2023-01-17T18:51:30.405597Z",
     "iopub.status.idle": "2023-01-17T18:51:30.621452Z",
     "shell.execute_reply": "2023-01-17T18:51:30.620069Z"
    },
    "id": "F3OnGtL0S8Xh",
    "outputId": "8dbff992-5fdd-4056-ee0a-5a99939994c9",
    "papermill": {
     "duration": 0.262776,
     "end_time": "2023-01-17T18:51:30.624238",
     "exception": false,
     "start_time": "2023-01-17T18:51:30.361462",
     "status": "completed"
    },
    "tags": []
   },
   "outputs": [
    {
     "data": {
      "text/plain": [
       "<AxesSubplot:xlabel='test preparation course', ylabel='count'>"
      ]
     },
     "execution_count": 62,
     "metadata": {},
     "output_type": "execute_result"
    },
    {
     "data": {
      "image/png": "[encoded data removed]",
      "text/plain": [
       "<Figure size 720x360 with 1 Axes>"
      ]
     },
     "metadata": {},
     "output_type": "display_data"
    }
   ],
   "source": [
    "plt.figure(figsize = (10,5))\n",
    "sns.countplot(x = 'test preparation course', data = students, hue = 'Writing_PassRate', palette = 'YlOrBr')"
   ]
  },
  {
   "cell_type": "markdown",
   "id": "76e9c5f8",
   "metadata": {
    "id": "n4QaRg8ykYk3",
    "papermill": {
     "duration": 0.041653,
     "end_time": "2023-01-17T18:51:30.779720",
     "exception": false,
     "start_time": "2023-01-17T18:51:30.738067",
     "status": "completed"
    },
    "tags": []
   },
   "source": [
    "From the information above, students who completed the test preparation course had the highest pass percentage for each exam.\n",
    "\n",
    "\n",
    "Below are the pass rate tables and countplots for each exam based on lunch program:"
   ]
  },
  {
   "cell_type": "code",
   "execution_count": 63,
   "id": "2f3272d4",
   "metadata": {
    "execution": {
     "iopub.execute_input": "2023-01-17T18:51:30.868494Z",
     "iopub.status.busy": "2023-01-17T18:51:30.868054Z",
     "iopub.status.idle": "2023-01-17T18:51:30.893554Z",
     "shell.execute_reply": "2023-01-17T18:51:30.892273Z"
    },
    "id": "qZ7RSYM1TCSY",
    "outputId": "c0749eaa-1bcd-4ed2-ba83-ccb54f83ed02",
    "papermill": {
     "duration": 0.072955,
     "end_time": "2023-01-17T18:51:30.896144",
     "exception": false,
     "start_time": "2023-01-17T18:51:30.823189",
     "status": "completed"
    },
    "tags": []
   },
   "outputs": [
    {
     "data": {
      "text/html": [
       "<div>\n",
       "<style scoped>\n",
       "    .dataframe tbody tr th:only-of-type {\n",
       "        vertical-align: middle;\n",
       "    }\n",
       "\n",
       "    .dataframe tbody tr th {\n",
       "        vertical-align: top;\n",
       "    }\n",
       "\n",
       "    .dataframe thead th {\n",
       "        text-align: right;\n",
       "    }\n",
       "</style>\n",
       "<table border=\"1\" class=\"dataframe\">\n",
       "  <thead>\n",
       "    <tr style=\"text-align: right;\">\n",
       "      <th>Math_PassRate</th>\n",
       "      <th>Fail</th>\n",
       "      <th>Pass</th>\n",
       "      <th>PercentPass</th>\n",
       "    </tr>\n",
       "    <tr>\n",
       "      <th>lunch</th>\n",
       "      <th></th>\n",
       "      <th></th>\n",
       "      <th></th>\n",
       "    </tr>\n",
       "  </thead>\n",
       "  <tbody>\n",
       "    <tr>\n",
       "      <th>free/reduced</th>\n",
       "      <td>175</td>\n",
       "      <td>180</td>\n",
       "      <td>50.70</td>\n",
       "    </tr>\n",
       "    <tr>\n",
       "      <th>standard</th>\n",
       "      <td>148</td>\n",
       "      <td>497</td>\n",
       "      <td>77.05</td>\n",
       "    </tr>\n",
       "  </tbody>\n",
       "</table>\n",
       "</div>"
      ],
      "text/plain": [
       "Math_PassRate  Fail  Pass  PercentPass\n",
       "lunch                                 \n",
       "free/reduced    175   180        50.70\n",
       "standard        148   497        77.05"
      ]
     },
     "execution_count": 63,
     "metadata": {},
     "output_type": "execute_result"
    }
   ],
   "source": [
    "math_table_lunch = pd.crosstab(index = students['lunch'], columns = students['Math_PassRate'])\n",
    "math_table_lunch['PercentPass'] = round(math_table_lunch['Pass'] / (math_table_lunch['Pass'] + math_table_lunch['Fail'])*100,2)\n",
    "math_table_lunch"
   ]
  },
  {
   "cell_type": "code",
   "execution_count": 64,
   "id": "29abfc6e",
   "metadata": {
    "execution": {
     "iopub.execute_input": "2023-01-17T18:51:30.982667Z",
     "iopub.status.busy": "2023-01-17T18:51:30.982236Z",
     "iopub.status.idle": "2023-01-17T18:51:31.186253Z",
     "shell.execute_reply": "2023-01-17T18:51:31.184774Z"
    },
    "id": "3J1oO-59ZFYY",
    "outputId": "4c50fd5c-b84c-4ff0-878a-82576c20ca4a",
    "papermill": {
     "duration": 0.250437,
     "end_time": "2023-01-17T18:51:31.189140",
     "exception": false,
     "start_time": "2023-01-17T18:51:30.938703",
     "status": "completed"
    },
    "tags": []
   },
   "outputs": [
    {
     "data": {
      "text/plain": [
       "<AxesSubplot:xlabel='lunch', ylabel='count'>"
      ]
     },
     "execution_count": 64,
     "metadata": {},
     "output_type": "execute_result"
    },
    {
     "data": {
      "image/png": "[encoded data removed]",
      "text/plain": [
       "<Figure size 720x360 with 1 Axes>"
      ]
     },
     "metadata": {},
     "output_type": "display_data"
    }
   ],
   "source": [
    "plt.figure(figsize = (10,5))\n",
    "sns.countplot(x = 'lunch', data = students, hue = 'Math_PassRate', palette = 'icefire')"
   ]
  },
  {
   "cell_type": "code",
   "execution_count": 65,
   "id": "b6eaf39d",
   "metadata": {
    "execution": {
     "iopub.execute_input": "2023-01-17T18:51:31.274065Z",
     "iopub.status.busy": "2023-01-17T18:51:31.273603Z",
     "iopub.status.idle": "2023-01-17T18:51:31.299645Z",
     "shell.execute_reply": "2023-01-17T18:51:31.298461Z"
    },
    "id": "3azO02K8YneJ",
    "outputId": "c9d1c961-3d4f-4a4d-b2a2-516d25ae7254",
    "papermill": {
     "duration": 0.071934,
     "end_time": "2023-01-17T18:51:31.302671",
     "exception": false,
     "start_time": "2023-01-17T18:51:31.230737",
     "status": "completed"
    },
    "tags": []
   },
   "outputs": [
    {
     "data": {
      "text/html": [
       "<div>\n",
       "<style scoped>\n",
       "    .dataframe tbody tr th:only-of-type {\n",
       "        vertical-align: middle;\n",
       "    }\n",
       "\n",
       "    .dataframe tbody tr th {\n",
       "        vertical-align: top;\n",
       "    }\n",
       "\n",
       "    .dataframe thead th {\n",
       "        text-align: right;\n",
       "    }\n",
       "</style>\n",
       "<table border=\"1\" class=\"dataframe\">\n",
       "  <thead>\n",
       "    <tr style=\"text-align: right;\">\n",
       "      <th>Reading_PassRate</th>\n",
       "      <th>Fail</th>\n",
       "      <th>Pass</th>\n",
       "      <th>PercentPass</th>\n",
       "    </tr>\n",
       "    <tr>\n",
       "      <th>lunch</th>\n",
       "      <th></th>\n",
       "      <th></th>\n",
       "      <th></th>\n",
       "    </tr>\n",
       "  </thead>\n",
       "  <tbody>\n",
       "    <tr>\n",
       "      <th>free/reduced</th>\n",
       "      <td>130</td>\n",
       "      <td>225</td>\n",
       "      <td>63.38</td>\n",
       "    </tr>\n",
       "    <tr>\n",
       "      <th>standard</th>\n",
       "      <td>124</td>\n",
       "      <td>521</td>\n",
       "      <td>80.78</td>\n",
       "    </tr>\n",
       "  </tbody>\n",
       "</table>\n",
       "</div>"
      ],
      "text/plain": [
       "Reading_PassRate  Fail  Pass  PercentPass\n",
       "lunch                                    \n",
       "free/reduced       130   225        63.38\n",
       "standard           124   521        80.78"
      ]
     },
     "execution_count": 65,
     "metadata": {},
     "output_type": "execute_result"
    }
   ],
   "source": [
    "read_table_lunch = pd.crosstab(index = students['lunch'], columns = students['Reading_PassRate'])\n",
    "read_table_lunch['PercentPass'] = round(read_table_lunch['Pass'] / (read_table_lunch['Pass'] + read_table_lunch['Fail'])*100,2)\n",
    "read_table_lunch"
   ]
  },
  {
   "cell_type": "code",
   "execution_count": 66,
   "id": "14648a28",
   "metadata": {
    "execution": {
     "iopub.execute_input": "2023-01-17T18:51:31.389483Z",
     "iopub.status.busy": "2023-01-17T18:51:31.388447Z",
     "iopub.status.idle": "2023-01-17T18:51:31.598986Z",
     "shell.execute_reply": "2023-01-17T18:51:31.597423Z"
    },
    "id": "Okor55QUZYoB",
    "outputId": "708f63ce-58e6-46fd-8186-9e31a8433c3b",
    "papermill": {
     "duration": 0.257538,
     "end_time": "2023-01-17T18:51:31.602054",
     "exception": false,
     "start_time": "2023-01-17T18:51:31.344516",
     "status": "completed"
    },
    "tags": []
   },
   "outputs": [
    {
     "data": {
      "text/plain": [
       "<AxesSubplot:xlabel='lunch', ylabel='count'>"
      ]
     },
     "execution_count": 66,
     "metadata": {},
     "output_type": "execute_result"
    },
    {
     "data": {
      "image/png": "[encoded data removed]",
      "text/plain": [
       "<Figure size 720x360 with 1 Axes>"
      ]
     },
     "metadata": {},
     "output_type": "display_data"
    }
   ],
   "source": [
    "plt.figure(figsize = (10,5))\n",
    "sns.countplot(x = 'lunch', data = students, hue = 'Reading_PassRate', palette = 'icefire')"
   ]
  },
  {
   "cell_type": "code",
   "execution_count": 67,
   "id": "281e0732",
   "metadata": {
    "execution": {
     "iopub.execute_input": "2023-01-17T18:51:31.692176Z",
     "iopub.status.busy": "2023-01-17T18:51:31.690888Z",
     "iopub.status.idle": "2023-01-17T18:51:31.716790Z",
     "shell.execute_reply": "2023-01-17T18:51:31.715501Z"
    },
    "id": "QDbj7LKLYqAA",
    "outputId": "6dfe3ac5-0334-41dd-a175-9176516599d0",
    "papermill": {
     "duration": 0.073599,
     "end_time": "2023-01-17T18:51:31.719511",
     "exception": false,
     "start_time": "2023-01-17T18:51:31.645912",
     "status": "completed"
    },
    "tags": []
   },
   "outputs": [
    {
     "data": {
      "text/html": [
       "<div>\n",
       "<style scoped>\n",
       "    .dataframe tbody tr th:only-of-type {\n",
       "        vertical-align: middle;\n",
       "    }\n",
       "\n",
       "    .dataframe tbody tr th {\n",
       "        vertical-align: top;\n",
       "    }\n",
       "\n",
       "    .dataframe thead th {\n",
       "        text-align: right;\n",
       "    }\n",
       "</style>\n",
       "<table border=\"1\" class=\"dataframe\">\n",
       "  <thead>\n",
       "    <tr style=\"text-align: right;\">\n",
       "      <th>Writing_PassRate</th>\n",
       "      <th>Fail</th>\n",
       "      <th>Pass</th>\n",
       "      <th>PercentPass</th>\n",
       "    </tr>\n",
       "    <tr>\n",
       "      <th>lunch</th>\n",
       "      <th></th>\n",
       "      <th></th>\n",
       "      <th></th>\n",
       "    </tr>\n",
       "  </thead>\n",
       "  <tbody>\n",
       "    <tr>\n",
       "      <th>free/reduced</th>\n",
       "      <td>144</td>\n",
       "      <td>211</td>\n",
       "      <td>59.44</td>\n",
       "    </tr>\n",
       "    <tr>\n",
       "      <th>standard</th>\n",
       "      <td>137</td>\n",
       "      <td>508</td>\n",
       "      <td>78.76</td>\n",
       "    </tr>\n",
       "  </tbody>\n",
       "</table>\n",
       "</div>"
      ],
      "text/plain": [
       "Writing_PassRate  Fail  Pass  PercentPass\n",
       "lunch                                    \n",
       "free/reduced       144   211        59.44\n",
       "standard           137   508        78.76"
      ]
     },
     "execution_count": 67,
     "metadata": {},
     "output_type": "execute_result"
    }
   ],
   "source": [
    "write_table_lunch = pd.crosstab(index = students['lunch'], columns = students['Writing_PassRate'])\n",
    "write_table_lunch['PercentPass'] = round(write_table_lunch['Pass'] / (write_table_lunch['Pass'] + write_table_lunch['Fail'])*100,2)\n",
    "write_table_lunch"
   ]
  },
  {
   "cell_type": "code",
   "execution_count": 68,
   "id": "0cbe46c2",
   "metadata": {
    "execution": {
     "iopub.execute_input": "2023-01-17T18:51:31.818316Z",
     "iopub.status.busy": "2023-01-17T18:51:31.817097Z",
     "iopub.status.idle": "2023-01-17T18:51:32.009319Z",
     "shell.execute_reply": "2023-01-17T18:51:32.008408Z"
    },
    "id": "8-6ZTLZbZbww",
    "outputId": "b441ea85-0201-41c6-87c6-7e296f3c812d",
    "papermill": {
     "duration": 0.248638,
     "end_time": "2023-01-17T18:51:32.011769",
     "exception": false,
     "start_time": "2023-01-17T18:51:31.763131",
     "status": "completed"
    },
    "tags": []
   },
   "outputs": [
    {
     "data": {
      "text/plain": [
       "<AxesSubplot:xlabel='lunch', ylabel='count'>"
      ]
     },
     "execution_count": 68,
     "metadata": {},
     "output_type": "execute_result"
    },
    {
     "data": {
      "image/png": "[encoded data removed]",
      "text/plain": [
       "<Figure size 720x360 with 1 Axes>"
      ]
     },
     "metadata": {},
     "output_type": "display_data"
    }
   ],
   "source": [
    "plt.figure(figsize = (10,5))\n",
    "sns.countplot(x = 'lunch', data = students, hue = 'Writing_PassRate', palette = 'icefire')"
   ]
  },
  {
   "cell_type": "markdown",
   "id": "8529e060",
   "metadata": {
    "id": "CjHa8XSvlKtZ",
    "papermill": {
     "duration": 0.042326,
     "end_time": "2023-01-17T18:51:32.097052",
     "exception": false,
     "start_time": "2023-01-17T18:51:32.054726",
     "status": "completed"
    },
    "tags": []
   },
   "source": [
    "\n",
    "From the information above, participants who are in the standard lunch program had the highest pass percentage for each exam."
   ]
  },
  {
   "cell_type": "markdown",
   "id": "ccc068b3",
   "metadata": {
    "id": "2mc8P439mNq0",
    "papermill": {
     "duration": 0.044206,
     "end_time": "2023-01-17T18:51:32.183428",
     "exception": false,
     "start_time": "2023-01-17T18:51:32.139222",
     "status": "completed"
    },
    "tags": []
   },
   "source": [
    "<a id = 'section-5'></a>\n",
    "## **Conclusion**"
   ]
  },
  {
   "cell_type": "markdown",
   "id": "b3e39de3",
   "metadata": {
    "id": "BqY-OZeNmP4Q",
    "papermill": {
     "duration": 0.043506,
     "end_time": "2023-01-17T18:51:32.270173",
     "exception": false,
     "start_time": "2023-01-17T18:51:32.226667",
     "status": "completed"
    },
    "tags": []
   },
   "source": [
    "From the Exploratory Data Analysis done, there appears to be a difference in test scores for each group. In order to determine if there is a difference, more analysis should be done, including statistical tests such as t-tests and regression analysis.\n",
    "\n",
    " In addition, in a real-world example, it would be beneficial to know if the sample size relates to the population size. For example, there were not a lot of participants in ethnicity group A and there were not a lot of participants whose parents earned a master's degree. It would be important to know if the sample size is comparable to the population size. If not, more participants who fit in these categories would be needed. "
   ]
  }
 ],
 "metadata": {
  "kernelspec": {
   "display_name": "Python 3 (ipykernel)",
   "language": "python",
   "name": "python3"
  },
  "language_info": {
   "codemirror_mode": {
    "name": "ipython",
    "version": 3
   },
   "file_extension": ".py",
   "mimetype": "text/x-python",
   "name": "python",
   "nbconvert_exporter": "python",
   "pygments_lexer": "ipython3",
   "version": "3.11.2"
  },
  "papermill": {
   "default_parameters": {},
   "duration": 31.8055,
   "end_time": "2023-01-17T18:51:33.337400",
   "environment_variables": {},
   "exception": null,
   "input_path": "__notebook__.ipynb",
   "output_path": "__notebook__.ipynb",
   "parameters": {},
   "start_time": "2023-01-17T18:51:01.531900",
   "version": "2.3.4"
  }
 },
 "nbformat": 4,
 "nbformat_minor": 5
}
